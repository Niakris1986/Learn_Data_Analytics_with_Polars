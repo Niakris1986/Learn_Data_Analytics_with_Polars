{
 "cells": [
  {
   "cell_type": "code",
   "execution_count": 1,
   "id": "b7dd817b",
   "metadata": {},
   "outputs": [
    {
     "name": "stdout",
     "output_type": "stream",
     "text": [
      "Collecting polars==0.17.3\n",
      "  Downloading polars-0.17.3-cp37-abi3-win_amd64.whl (18.0 MB)\n",
      "Requirement already satisfied: typing_extensions>=4.0.1 in c:\\programdata\\anaconda3\\lib\\site-packages (from polars==0.17.3) (4.1.1)\n",
      "Installing collected packages: polars\n",
      "Successfully installed polars-0.17.3\n",
      "Note: you may need to restart the kernel to use updated packages.\n"
     ]
    }
   ],
   "source": [
    "pip install polars==0.17.3"
   ]
  },
  {
   "cell_type": "code",
   "execution_count": 1,
   "id": "1e44e273",
   "metadata": {},
   "outputs": [],
   "source": [
    "import polars as pl"
   ]
  },
  {
   "cell_type": "code",
   "execution_count": 5,
   "id": "850fdf9c",
   "metadata": {},
   "outputs": [],
   "source": [
    "df = pl.read_csv(\"C:/Users/user/Downloads/course_file.csv\", has_header=True)"
   ]
  },
  {
   "cell_type": "code",
   "execution_count": 6,
   "id": "b1dc461e",
   "metadata": {},
   "outputs": [
    {
     "data": {
      "text/html": [
       "<div><style>\n",
       ".dataframe > thead > tr > th,\n",
       ".dataframe > tbody > tr > td {\n",
       "  text-align: right;\n",
       "}\n",
       "</style>\n",
       "<small>shape: (2, 12)</small><table border=\"1\" class=\"dataframe\"><thead><tr><th>date_time</th><th>userid</th><th>domain</th><th>dlbytes</th><th>ulbytes</th><th>clientip</th><th>serverip</th><th>country</th><th>txn_time</th><th>http_method</th><th>user_agent</th><th>platform</th></tr><tr><td>str</td><td>i64</td><td>str</td><td>i64</td><td>i64</td><td>str</td><td>str</td><td>str</td><td>f64</td><td>str</td><td>str</td><td>str</td></tr></thead><tbody><tr><td>&quot;2023-10-04 11:…</td><td>7773153683656</td><td>&quot;ryan-wells.co.…</td><td>872807</td><td>741526</td><td>&quot;142.132.219.11…</td><td>&quot;62.42.184.180&quot;</td><td>&quot;England&quot;</td><td>2.33</td><td>&quot;HTTPS&quot;</td><td>&quot;Mozilla/5.0 (W…</td><td>&quot;Android&quot;</td></tr><tr><td>&quot;2023-10-04 12:…</td><td>1886351675683</td><td>&quot;hopkins.org&quot;</td><td>50898</td><td>529504</td><td>&quot;184.205.48.78&quot;</td><td>&quot;152.123.41.39&quot;</td><td>&quot;Wales&quot;</td><td>1.2</td><td>&quot;HTTP&quot;</td><td>&quot;Mozilla/5.0 (W…</td><td>&quot;Android&quot;</td></tr></tbody></table></div>"
      ],
      "text/plain": [
       "shape: (2, 12)\n",
       "┌─────────────┬────────────┬────────────┬─────────┬───┬──────────┬───────────┬──────────┬──────────┐\n",
       "│ date_time   ┆ userid     ┆ domain     ┆ dlbytes ┆ … ┆ txn_time ┆ http_meth ┆ user_age ┆ platform │\n",
       "│ ---         ┆ ---        ┆ ---        ┆ ---     ┆   ┆ ---      ┆ od        ┆ nt       ┆ ---      │\n",
       "│ str         ┆ i64        ┆ str        ┆ i64     ┆   ┆ f64      ┆ ---       ┆ ---      ┆ str      │\n",
       "│             ┆            ┆            ┆         ┆   ┆          ┆ str       ┆ str      ┆          │\n",
       "╞═════════════╪════════════╪════════════╪═════════╪═══╪══════════╪═══════════╪══════════╪══════════╡\n",
       "│ 2023-10-04  ┆ 7773153683 ┆ ryan-wells ┆ 872807  ┆ … ┆ 2.33     ┆ HTTPS     ┆ Mozilla/ ┆ Android  │\n",
       "│ 11:37:11    ┆ 656        ┆ .co.uk     ┆         ┆   ┆          ┆           ┆ 5.0 (Win ┆          │\n",
       "│             ┆            ┆            ┆         ┆   ┆          ┆           ┆ dows; U; ┆          │\n",
       "│             ┆            ┆            ┆         ┆   ┆          ┆           ┆ Windows… ┆          │\n",
       "│ 2023-10-04  ┆ 1886351675 ┆ hopkins.or ┆ 50898   ┆ … ┆ 1.2      ┆ HTTP      ┆ Mozilla/ ┆ Android  │\n",
       "│ 12:17:07    ┆ 683        ┆ g          ┆         ┆   ┆          ┆           ┆ 5.0 (Win ┆          │\n",
       "│             ┆            ┆            ┆         ┆   ┆          ┆           ┆ dows; U; ┆          │\n",
       "│             ┆            ┆            ┆         ┆   ┆          ┆           ┆ Windows… ┆          │\n",
       "└─────────────┴────────────┴────────────┴─────────┴───┴──────────┴───────────┴──────────┴──────────┘"
      ]
     },
     "execution_count": 6,
     "metadata": {},
     "output_type": "execute_result"
    }
   ],
   "source": [
    "df.head(2)"
   ]
  },
  {
   "cell_type": "code",
   "execution_count": 7,
   "id": "75fc2f78",
   "metadata": {},
   "outputs": [
    {
     "data": {
      "text/html": [
       "<div><style>\n",
       ".dataframe > thead > tr > th,\n",
       ".dataframe > tbody > tr > td {\n",
       "  text-align: right;\n",
       "}\n",
       "</style>\n",
       "<small>shape: (2, 12)</small><table border=\"1\" class=\"dataframe\"><thead><tr><th>date_time</th><th>userid</th><th>domain</th><th>dlbytes</th><th>ulbytes</th><th>clientip</th><th>serverip</th><th>country</th><th>txn_time</th><th>http_method</th><th>user_agent</th><th>platform</th></tr><tr><td>str</td><td>i64</td><td>str</td><td>i64</td><td>i64</td><td>str</td><td>str</td><td>str</td><td>f64</td><td>str</td><td>str</td><td>str</td></tr></thead><tbody><tr><td>&quot;2023-10-04 05:…</td><td>3489765231586</td><td>&quot;clarke-parsons…</td><td>757315</td><td>796904</td><td>&quot;10.109.179.143…</td><td>&quot;142.246.255.20…</td><td>&quot;Ireland&quot;</td><td>2.54</td><td>&quot;HTTP&quot;</td><td>&quot;Opera/8.27.(X1…</td><td>&quot;Linux&quot;</td></tr><tr><td>&quot;2023-10-04 20:…</td><td>4668345200091</td><td>&quot;cox.com&quot;</td><td>295770</td><td>820163</td><td>&quot;195.17.113.112…</td><td>&quot;211.15.120.53&quot;</td><td>&quot;Ireland&quot;</td><td>2.62</td><td>&quot;HTTP&quot;</td><td>&quot;Mozilla/5.0 (X…</td><td>&quot;Linux&quot;</td></tr></tbody></table></div>"
      ],
      "text/plain": [
       "shape: (2, 12)\n",
       "┌─────────────┬────────────┬────────────┬─────────┬───┬──────────┬───────────┬──────────┬──────────┐\n",
       "│ date_time   ┆ userid     ┆ domain     ┆ dlbytes ┆ … ┆ txn_time ┆ http_meth ┆ user_age ┆ platform │\n",
       "│ ---         ┆ ---        ┆ ---        ┆ ---     ┆   ┆ ---      ┆ od        ┆ nt       ┆ ---      │\n",
       "│ str         ┆ i64        ┆ str        ┆ i64     ┆   ┆ f64      ┆ ---       ┆ ---      ┆ str      │\n",
       "│             ┆            ┆            ┆         ┆   ┆          ┆ str       ┆ str      ┆          │\n",
       "╞═════════════╪════════════╪════════════╪═════════╪═══╪══════════╪═══════════╪══════════╪══════════╡\n",
       "│ 2023-10-04  ┆ 3489765231 ┆ clarke-par ┆ 757315  ┆ … ┆ 2.54     ┆ HTTP      ┆ Opera/8. ┆ Linux    │\n",
       "│ 05:26:28    ┆ 586        ┆ sons.co.uk ┆         ┆   ┆          ┆           ┆ 27.(X11; ┆          │\n",
       "│             ┆            ┆            ┆         ┆   ┆          ┆           ┆ Linux    ┆          │\n",
       "│             ┆            ┆            ┆         ┆   ┆          ┆           ┆ x86_64;  ┆          │\n",
       "│             ┆            ┆            ┆         ┆   ┆          ┆           ┆ a…       ┆          │\n",
       "│ 2023-10-04  ┆ 4668345200 ┆ cox.com    ┆ 295770  ┆ … ┆ 2.62     ┆ HTTP      ┆ Mozilla/ ┆ Linux    │\n",
       "│ 20:40:11    ┆ 091        ┆            ┆         ┆   ┆          ┆           ┆ 5.0      ┆          │\n",
       "│             ┆            ┆            ┆         ┆   ┆          ┆           ┆ (X11;    ┆          │\n",
       "│             ┆            ┆            ┆         ┆   ┆          ┆           ┆ Linux    ┆          │\n",
       "│             ┆            ┆            ┆         ┆   ┆          ┆           ┆ x86_64;  ┆          │\n",
       "│             ┆            ┆            ┆         ┆   ┆          ┆           ┆ …        ┆          │\n",
       "└─────────────┴────────────┴────────────┴─────────┴───┴──────────┴───────────┴──────────┴──────────┘"
      ]
     },
     "execution_count": 7,
     "metadata": {},
     "output_type": "execute_result"
    }
   ],
   "source": [
    "df.tail(2)"
   ]
  },
  {
   "cell_type": "code",
   "execution_count": 8,
   "id": "bdb0bc6e",
   "metadata": {},
   "outputs": [
    {
     "data": {
      "text/plain": [
       "100000"
      ]
     },
     "execution_count": 8,
     "metadata": {},
     "output_type": "execute_result"
    }
   ],
   "source": [
    "len(df)"
   ]
  },
  {
   "cell_type": "code",
   "execution_count": 9,
   "id": "f0d6a21c",
   "metadata": {},
   "outputs": [
    {
     "name": "stdout",
     "output_type": "stream",
     "text": [
      "['date_time', 'userid', 'domain', 'dlbytes', 'ulbytes', 'clientip', 'serverip', 'country', 'txn_time', 'http_method', 'user_agent', 'platform']\n"
     ]
    }
   ],
   "source": [
    "print(df.columns)"
   ]
  },
  {
   "cell_type": "code",
   "execution_count": 10,
   "id": "8e5a4ee4",
   "metadata": {},
   "outputs": [
    {
     "name": "stdout",
     "output_type": "stream",
     "text": [
      "(100000, 12)\n"
     ]
    }
   ],
   "source": [
    "print(df.shape)"
   ]
  },
  {
   "cell_type": "code",
   "execution_count": 11,
   "id": "69177394",
   "metadata": {},
   "outputs": [
    {
     "name": "stdout",
     "output_type": "stream",
     "text": [
      "shape: (9, 13)\n",
      "┌────────────┬────────────┬───────────┬───────────┬───┬──────────┬───────────┬──────────┬──────────┐\n",
      "│ describe   ┆ date_time  ┆ userid    ┆ domain    ┆ … ┆ txn_time ┆ http_meth ┆ user_age ┆ platform │\n",
      "│ ---        ┆ ---        ┆ ---       ┆ ---       ┆   ┆ ---      ┆ od        ┆ nt       ┆ ---      │\n",
      "│ str        ┆ str        ┆ f64       ┆ str       ┆   ┆ f64      ┆ ---       ┆ ---      ┆ str      │\n",
      "│            ┆            ┆           ┆           ┆   ┆          ┆ str       ┆ str      ┆          │\n",
      "╞════════════╪════════════╪═══════════╪═══════════╪═══╪══════════╪═══════════╪══════════╪══════════╡\n",
      "│ count      ┆ 100000     ┆ 100000.0  ┆ 100000    ┆ … ┆ 100000.0 ┆ 100000    ┆ 100000   ┆ 100000   │\n",
      "│ null_count ┆ 0          ┆ 0.0       ┆ 0         ┆ … ┆ 0.0      ┆ 0         ┆ 0        ┆ 0        │\n",
      "│ mean       ┆ null       ┆ 5.0101e12 ┆ null      ┆ … ┆ 1.498052 ┆ null      ┆ null     ┆ null     │\n",
      "│ std        ┆ null       ┆ 2.8983e12 ┆ null      ┆ … ┆ 0.866925 ┆ null      ┆ null     ┆ null     │\n",
      "│ min        ┆ 2023-10-01 ┆ 3.4807482 ┆ abbott-ba ┆ … ┆ 0.0      ┆ HTTP      ┆ Mozilla/ ┆ Android  │\n",
      "│            ┆ 00:00:01   ┆ e7        ┆ rnes.com  ┆   ┆          ┆           ┆ 5.0      ┆          │\n",
      "│            ┆            ┆           ┆           ┆   ┆          ┆           ┆ (Android ┆          │\n",
      "│            ┆            ┆           ┆           ┆   ┆          ┆           ┆ 1.0;     ┆          │\n",
      "│            ┆            ┆           ┆           ┆   ┆          ┆           ┆ Mobile…  ┆          │\n",
      "│ max        ┆ 2023-10-05 ┆ 1.0000e13 ┆ young.org ┆ … ┆ 3.0      ┆ HTTPS     ┆ Opera/9. ┆ iOS      │\n",
      "│            ┆ 23:58:52   ┆           ┆           ┆   ┆          ┆           ┆ 99.(X11; ┆          │\n",
      "│            ┆            ┆           ┆           ┆   ┆          ┆           ┆ Linux    ┆          │\n",
      "│            ┆            ┆           ┆           ┆   ┆          ┆           ┆ x86_64;  ┆          │\n",
      "│            ┆            ┆           ┆           ┆   ┆          ┆           ┆ w…       ┆          │\n",
      "│ median     ┆ null       ┆ 5.0171e12 ┆ null      ┆ … ┆ 1.49     ┆ null      ┆ null     ┆ null     │\n",
      "│ 25%        ┆ null       ┆ 2.4906e12 ┆ null      ┆ … ┆ 0.75     ┆ null      ┆ null     ┆ null     │\n",
      "│ 75%        ┆ null       ┆ 7.5267e12 ┆ null      ┆ … ┆ 2.25     ┆ null      ┆ null     ┆ null     │\n",
      "└────────────┴────────────┴───────────┴───────────┴───┴──────────┴───────────┴──────────┴──────────┘\n"
     ]
    }
   ],
   "source": [
    "print(df.describe())"
   ]
  },
  {
   "cell_type": "code",
   "execution_count": 12,
   "id": "849848aa",
   "metadata": {},
   "outputs": [],
   "source": [
    "custom_schema = {\n",
    "    'date_time': pl.Utf8,\n",
    "    'userid': pl.Utf8,\n",
    "    'dlbytes': pl.Int64,\n",
    "    'ulbytes': pl.Int64,\n",
    "    'clientip': pl.Utf8,\n",
    "    'serverip': pl.Utf8,\n",
    "    'country': pl.Utf8,\n",
    "    'txn_time': pl.Float64,\n",
    "    'http_method': pl.Utf8,\n",
    "    'user_agent': pl.Utf8,\n",
    "    'platform': pl.Utf8\n",
    "}"
   ]
  },
  {
   "cell_type": "code",
   "execution_count": 13,
   "id": "8c012924",
   "metadata": {},
   "outputs": [],
   "source": [
    "df = pl.read_csv(\"C:/Users/user/Downloads/course_file.csv\", has_header=True, dtypes=custom_schema)"
   ]
  },
  {
   "cell_type": "code",
   "execution_count": 14,
   "id": "5c00dab4",
   "metadata": {},
   "outputs": [
    {
     "data": {
      "text/html": [
       "<div><style>\n",
       ".dataframe > thead > tr > th,\n",
       ".dataframe > tbody > tr > td {\n",
       "  text-align: right;\n",
       "}\n",
       "</style>\n",
       "<small>shape: (2, 12)</small><table border=\"1\" class=\"dataframe\"><thead><tr><th>date_time</th><th>userid</th><th>domain</th><th>dlbytes</th><th>ulbytes</th><th>clientip</th><th>serverip</th><th>country</th><th>txn_time</th><th>http_method</th><th>user_agent</th><th>platform</th></tr><tr><td>str</td><td>str</td><td>str</td><td>i64</td><td>i64</td><td>str</td><td>str</td><td>str</td><td>f64</td><td>str</td><td>str</td><td>str</td></tr></thead><tbody><tr><td>&quot;2023-10-04 11:…</td><td>&quot;7773153683656&quot;</td><td>&quot;ryan-wells.co.…</td><td>872807</td><td>741526</td><td>&quot;142.132.219.11…</td><td>&quot;62.42.184.180&quot;</td><td>&quot;England&quot;</td><td>2.33</td><td>&quot;HTTPS&quot;</td><td>&quot;Mozilla/5.0 (W…</td><td>&quot;Android&quot;</td></tr><tr><td>&quot;2023-10-04 12:…</td><td>&quot;1886351675683&quot;</td><td>&quot;hopkins.org&quot;</td><td>50898</td><td>529504</td><td>&quot;184.205.48.78&quot;</td><td>&quot;152.123.41.39&quot;</td><td>&quot;Wales&quot;</td><td>1.2</td><td>&quot;HTTP&quot;</td><td>&quot;Mozilla/5.0 (W…</td><td>&quot;Android&quot;</td></tr></tbody></table></div>"
      ],
      "text/plain": [
       "shape: (2, 12)\n",
       "┌─────────────┬────────────┬────────────┬─────────┬───┬──────────┬───────────┬──────────┬──────────┐\n",
       "│ date_time   ┆ userid     ┆ domain     ┆ dlbytes ┆ … ┆ txn_time ┆ http_meth ┆ user_age ┆ platform │\n",
       "│ ---         ┆ ---        ┆ ---        ┆ ---     ┆   ┆ ---      ┆ od        ┆ nt       ┆ ---      │\n",
       "│ str         ┆ str        ┆ str        ┆ i64     ┆   ┆ f64      ┆ ---       ┆ ---      ┆ str      │\n",
       "│             ┆            ┆            ┆         ┆   ┆          ┆ str       ┆ str      ┆          │\n",
       "╞═════════════╪════════════╪════════════╪═════════╪═══╪══════════╪═══════════╪══════════╪══════════╡\n",
       "│ 2023-10-04  ┆ 7773153683 ┆ ryan-wells ┆ 872807  ┆ … ┆ 2.33     ┆ HTTPS     ┆ Mozilla/ ┆ Android  │\n",
       "│ 11:37:11    ┆ 656        ┆ .co.uk     ┆         ┆   ┆          ┆           ┆ 5.0 (Win ┆          │\n",
       "│             ┆            ┆            ┆         ┆   ┆          ┆           ┆ dows; U; ┆          │\n",
       "│             ┆            ┆            ┆         ┆   ┆          ┆           ┆ Windows… ┆          │\n",
       "│ 2023-10-04  ┆ 1886351675 ┆ hopkins.or ┆ 50898   ┆ … ┆ 1.2      ┆ HTTP      ┆ Mozilla/ ┆ Android  │\n",
       "│ 12:17:07    ┆ 683        ┆ g          ┆         ┆   ┆          ┆           ┆ 5.0 (Win ┆          │\n",
       "│             ┆            ┆            ┆         ┆   ┆          ┆           ┆ dows; U; ┆          │\n",
       "│             ┆            ┆            ┆         ┆   ┆          ┆           ┆ Windows… ┆          │\n",
       "└─────────────┴────────────┴────────────┴─────────┴───┴──────────┴───────────┴──────────┴──────────┘"
      ]
     },
     "execution_count": 14,
     "metadata": {},
     "output_type": "execute_result"
    }
   ],
   "source": [
    "df.head(2)"
   ]
  },
  {
   "cell_type": "code",
   "execution_count": 15,
   "id": "7f509c50",
   "metadata": {},
   "outputs": [],
   "source": [
    "df_no_nulls = df.filter(df['date_time'].is_not_null())"
   ]
  },
  {
   "cell_type": "code",
   "execution_count": 16,
   "id": "f0026bc9",
   "metadata": {},
   "outputs": [
    {
     "data": {
      "text/html": [
       "<div><style>\n",
       ".dataframe > thead > tr > th,\n",
       ".dataframe > tbody > tr > td {\n",
       "  text-align: right;\n",
       "}\n",
       "</style>\n",
       "<small>shape: (2, 12)</small><table border=\"1\" class=\"dataframe\"><thead><tr><th>date_time</th><th>userid</th><th>domain</th><th>dlbytes</th><th>ulbytes</th><th>clientip</th><th>serverip</th><th>country</th><th>txn_time</th><th>http_method</th><th>user_agent</th><th>platform</th></tr><tr><td>str</td><td>str</td><td>str</td><td>i64</td><td>i64</td><td>str</td><td>str</td><td>str</td><td>f64</td><td>str</td><td>str</td><td>str</td></tr></thead><tbody><tr><td>&quot;2023-10-04 11:…</td><td>&quot;7773153683656&quot;</td><td>&quot;ryan-wells.co.…</td><td>872807</td><td>741526</td><td>&quot;142.132.219.11…</td><td>&quot;62.42.184.180&quot;</td><td>&quot;England&quot;</td><td>2.33</td><td>&quot;HTTPS&quot;</td><td>&quot;Mozilla/5.0 (W…</td><td>&quot;Android&quot;</td></tr><tr><td>&quot;2023-10-04 12:…</td><td>&quot;1886351675683&quot;</td><td>&quot;hopkins.org&quot;</td><td>50898</td><td>529504</td><td>&quot;184.205.48.78&quot;</td><td>&quot;152.123.41.39&quot;</td><td>&quot;Wales&quot;</td><td>1.2</td><td>&quot;HTTP&quot;</td><td>&quot;Mozilla/5.0 (W…</td><td>&quot;Android&quot;</td></tr></tbody></table></div>"
      ],
      "text/plain": [
       "shape: (2, 12)\n",
       "┌─────────────┬────────────┬────────────┬─────────┬───┬──────────┬───────────┬──────────┬──────────┐\n",
       "│ date_time   ┆ userid     ┆ domain     ┆ dlbytes ┆ … ┆ txn_time ┆ http_meth ┆ user_age ┆ platform │\n",
       "│ ---         ┆ ---        ┆ ---        ┆ ---     ┆   ┆ ---      ┆ od        ┆ nt       ┆ ---      │\n",
       "│ str         ┆ str        ┆ str        ┆ i64     ┆   ┆ f64      ┆ ---       ┆ ---      ┆ str      │\n",
       "│             ┆            ┆            ┆         ┆   ┆          ┆ str       ┆ str      ┆          │\n",
       "╞═════════════╪════════════╪════════════╪═════════╪═══╪══════════╪═══════════╪══════════╪══════════╡\n",
       "│ 2023-10-04  ┆ 7773153683 ┆ ryan-wells ┆ 872807  ┆ … ┆ 2.33     ┆ HTTPS     ┆ Mozilla/ ┆ Android  │\n",
       "│ 11:37:11    ┆ 656        ┆ .co.uk     ┆         ┆   ┆          ┆           ┆ 5.0 (Win ┆          │\n",
       "│             ┆            ┆            ┆         ┆   ┆          ┆           ┆ dows; U; ┆          │\n",
       "│             ┆            ┆            ┆         ┆   ┆          ┆           ┆ Windows… ┆          │\n",
       "│ 2023-10-04  ┆ 1886351675 ┆ hopkins.or ┆ 50898   ┆ … ┆ 1.2      ┆ HTTP      ┆ Mozilla/ ┆ Android  │\n",
       "│ 12:17:07    ┆ 683        ┆ g          ┆         ┆   ┆          ┆           ┆ 5.0 (Win ┆          │\n",
       "│             ┆            ┆            ┆         ┆   ┆          ┆           ┆ dows; U; ┆          │\n",
       "│             ┆            ┆            ┆         ┆   ┆          ┆           ┆ Windows… ┆          │\n",
       "└─────────────┴────────────┴────────────┴─────────┴───┴──────────┴───────────┴──────────┴──────────┘"
      ]
     },
     "execution_count": 16,
     "metadata": {},
     "output_type": "execute_result"
    }
   ],
   "source": [
    "df_no_nulls.head(2)"
   ]
  },
  {
   "cell_type": "code",
   "execution_count": 17,
   "id": "eb788374",
   "metadata": {},
   "outputs": [],
   "source": [
    "df_no_nulls = df.filter((df['date_time'].is_not_null())& (df['userid'].is_not_null()))"
   ]
  },
  {
   "cell_type": "code",
   "execution_count": 18,
   "id": "e3e2180c",
   "metadata": {},
   "outputs": [
    {
     "data": {
      "text/html": [
       "<div><style>\n",
       ".dataframe > thead > tr > th,\n",
       ".dataframe > tbody > tr > td {\n",
       "  text-align: right;\n",
       "}\n",
       "</style>\n",
       "<small>shape: (2, 12)</small><table border=\"1\" class=\"dataframe\"><thead><tr><th>date_time</th><th>userid</th><th>domain</th><th>dlbytes</th><th>ulbytes</th><th>clientip</th><th>serverip</th><th>country</th><th>txn_time</th><th>http_method</th><th>user_agent</th><th>platform</th></tr><tr><td>str</td><td>str</td><td>str</td><td>i64</td><td>i64</td><td>str</td><td>str</td><td>str</td><td>f64</td><td>str</td><td>str</td><td>str</td></tr></thead><tbody><tr><td>&quot;2023-10-04 11:…</td><td>&quot;7773153683656&quot;</td><td>&quot;ryan-wells.co.…</td><td>872807</td><td>741526</td><td>&quot;142.132.219.11…</td><td>&quot;62.42.184.180&quot;</td><td>&quot;England&quot;</td><td>2.33</td><td>&quot;HTTPS&quot;</td><td>&quot;Mozilla/5.0 (W…</td><td>&quot;Android&quot;</td></tr><tr><td>&quot;2023-10-04 12:…</td><td>&quot;1886351675683&quot;</td><td>&quot;hopkins.org&quot;</td><td>50898</td><td>529504</td><td>&quot;184.205.48.78&quot;</td><td>&quot;152.123.41.39&quot;</td><td>&quot;Wales&quot;</td><td>1.2</td><td>&quot;HTTP&quot;</td><td>&quot;Mozilla/5.0 (W…</td><td>&quot;Android&quot;</td></tr></tbody></table></div>"
      ],
      "text/plain": [
       "shape: (2, 12)\n",
       "┌─────────────┬────────────┬────────────┬─────────┬───┬──────────┬───────────┬──────────┬──────────┐\n",
       "│ date_time   ┆ userid     ┆ domain     ┆ dlbytes ┆ … ┆ txn_time ┆ http_meth ┆ user_age ┆ platform │\n",
       "│ ---         ┆ ---        ┆ ---        ┆ ---     ┆   ┆ ---      ┆ od        ┆ nt       ┆ ---      │\n",
       "│ str         ┆ str        ┆ str        ┆ i64     ┆   ┆ f64      ┆ ---       ┆ ---      ┆ str      │\n",
       "│             ┆            ┆            ┆         ┆   ┆          ┆ str       ┆ str      ┆          │\n",
       "╞═════════════╪════════════╪════════════╪═════════╪═══╪══════════╪═══════════╪══════════╪══════════╡\n",
       "│ 2023-10-04  ┆ 7773153683 ┆ ryan-wells ┆ 872807  ┆ … ┆ 2.33     ┆ HTTPS     ┆ Mozilla/ ┆ Android  │\n",
       "│ 11:37:11    ┆ 656        ┆ .co.uk     ┆         ┆   ┆          ┆           ┆ 5.0 (Win ┆          │\n",
       "│             ┆            ┆            ┆         ┆   ┆          ┆           ┆ dows; U; ┆          │\n",
       "│             ┆            ┆            ┆         ┆   ┆          ┆           ┆ Windows… ┆          │\n",
       "│ 2023-10-04  ┆ 1886351675 ┆ hopkins.or ┆ 50898   ┆ … ┆ 1.2      ┆ HTTP      ┆ Mozilla/ ┆ Android  │\n",
       "│ 12:17:07    ┆ 683        ┆ g          ┆         ┆   ┆          ┆           ┆ 5.0 (Win ┆          │\n",
       "│             ┆            ┆            ┆         ┆   ┆          ┆           ┆ dows; U; ┆          │\n",
       "│             ┆            ┆            ┆         ┆   ┆          ┆           ┆ Windows… ┆          │\n",
       "└─────────────┴────────────┴────────────┴─────────┴───┴──────────┴───────────┴──────────┴──────────┘"
      ]
     },
     "execution_count": 18,
     "metadata": {},
     "output_type": "execute_result"
    }
   ],
   "source": [
    "df_no_nulls.head(2)"
   ]
  },
  {
   "cell_type": "code",
   "execution_count": 19,
   "id": "5b391c48",
   "metadata": {},
   "outputs": [],
   "source": [
    "df_no_nulls2 = df.drop_nulls(subset=['date_time', 'userid', 'domain'])"
   ]
  },
  {
   "cell_type": "code",
   "execution_count": 20,
   "id": "dd971c46",
   "metadata": {},
   "outputs": [
    {
     "data": {
      "text/html": [
       "<div><style>\n",
       ".dataframe > thead > tr > th,\n",
       ".dataframe > tbody > tr > td {\n",
       "  text-align: right;\n",
       "}\n",
       "</style>\n",
       "<small>shape: (3, 12)</small><table border=\"1\" class=\"dataframe\"><thead><tr><th>date_time</th><th>userid</th><th>domain</th><th>dlbytes</th><th>ulbytes</th><th>clientip</th><th>serverip</th><th>country</th><th>txn_time</th><th>http_method</th><th>user_agent</th><th>platform</th></tr><tr><td>str</td><td>str</td><td>str</td><td>i64</td><td>i64</td><td>str</td><td>str</td><td>str</td><td>f64</td><td>str</td><td>str</td><td>str</td></tr></thead><tbody><tr><td>&quot;2023-10-04 11:…</td><td>&quot;7773153683656&quot;</td><td>&quot;ryan-wells.co.…</td><td>872807</td><td>741526</td><td>&quot;142.132.219.11…</td><td>&quot;62.42.184.180&quot;</td><td>&quot;England&quot;</td><td>2.33</td><td>&quot;HTTPS&quot;</td><td>&quot;Mozilla/5.0 (W…</td><td>&quot;Android&quot;</td></tr><tr><td>&quot;2023-10-04 12:…</td><td>&quot;1886351675683&quot;</td><td>&quot;hopkins.org&quot;</td><td>50898</td><td>529504</td><td>&quot;184.205.48.78&quot;</td><td>&quot;152.123.41.39&quot;</td><td>&quot;Wales&quot;</td><td>1.2</td><td>&quot;HTTP&quot;</td><td>&quot;Mozilla/5.0 (W…</td><td>&quot;Android&quot;</td></tr><tr><td>&quot;2023-10-02 23:…</td><td>&quot;1597721345356&quot;</td><td>&quot;evans.com&quot;</td><td>964276</td><td>952420</td><td>&quot;189.30.60.163&quot;</td><td>&quot;68.171.236.18&quot;</td><td>&quot;Scotland&quot;</td><td>1.32</td><td>&quot;HTTP&quot;</td><td>&quot;Mozilla/5.0 (W…</td><td>&quot;Linux&quot;</td></tr></tbody></table></div>"
      ],
      "text/plain": [
       "shape: (3, 12)\n",
       "┌─────────────┬────────────┬────────────┬─────────┬───┬──────────┬───────────┬──────────┬──────────┐\n",
       "│ date_time   ┆ userid     ┆ domain     ┆ dlbytes ┆ … ┆ txn_time ┆ http_meth ┆ user_age ┆ platform │\n",
       "│ ---         ┆ ---        ┆ ---        ┆ ---     ┆   ┆ ---      ┆ od        ┆ nt       ┆ ---      │\n",
       "│ str         ┆ str        ┆ str        ┆ i64     ┆   ┆ f64      ┆ ---       ┆ ---      ┆ str      │\n",
       "│             ┆            ┆            ┆         ┆   ┆          ┆ str       ┆ str      ┆          │\n",
       "╞═════════════╪════════════╪════════════╪═════════╪═══╪══════════╪═══════════╪══════════╪══════════╡\n",
       "│ 2023-10-04  ┆ 7773153683 ┆ ryan-wells ┆ 872807  ┆ … ┆ 2.33     ┆ HTTPS     ┆ Mozilla/ ┆ Android  │\n",
       "│ 11:37:11    ┆ 656        ┆ .co.uk     ┆         ┆   ┆          ┆           ┆ 5.0 (Win ┆          │\n",
       "│             ┆            ┆            ┆         ┆   ┆          ┆           ┆ dows; U; ┆          │\n",
       "│             ┆            ┆            ┆         ┆   ┆          ┆           ┆ Windows… ┆          │\n",
       "│ 2023-10-04  ┆ 1886351675 ┆ hopkins.or ┆ 50898   ┆ … ┆ 1.2      ┆ HTTP      ┆ Mozilla/ ┆ Android  │\n",
       "│ 12:17:07    ┆ 683        ┆ g          ┆         ┆   ┆          ┆           ┆ 5.0 (Win ┆          │\n",
       "│             ┆            ┆            ┆         ┆   ┆          ┆           ┆ dows; U; ┆          │\n",
       "│             ┆            ┆            ┆         ┆   ┆          ┆           ┆ Windows… ┆          │\n",
       "│ 2023-10-02  ┆ 1597721345 ┆ evans.com  ┆ 964276  ┆ … ┆ 1.32     ┆ HTTP      ┆ Mozilla/ ┆ Linux    │\n",
       "│ 23:25:12    ┆ 356        ┆            ┆         ┆   ┆          ┆           ┆ 5.0      ┆          │\n",
       "│             ┆            ┆            ┆         ┆   ┆          ┆           ┆ (Windows ┆          │\n",
       "│             ┆            ┆            ┆         ┆   ┆          ┆           ┆ 98; Win  ┆          │\n",
       "│             ┆            ┆            ┆         ┆   ┆          ┆           ┆ 9x …     ┆          │\n",
       "└─────────────┴────────────┴────────────┴─────────┴───┴──────────┴───────────┴──────────┴──────────┘"
      ]
     },
     "execution_count": 20,
     "metadata": {},
     "output_type": "execute_result"
    }
   ],
   "source": [
    "df_no_nulls2.head(3)"
   ]
  },
  {
   "cell_type": "code",
   "execution_count": 21,
   "id": "86caa561",
   "metadata": {},
   "outputs": [
    {
     "data": {
      "text/html": [
       "<div><style>\n",
       ".dataframe > thead > tr > th,\n",
       ".dataframe > tbody > tr > td {\n",
       "  text-align: right;\n",
       "}\n",
       "</style>\n",
       "<small>shape: (5, 12)</small><table border=\"1\" class=\"dataframe\"><thead><tr><th>date_time</th><th>userid</th><th>domain</th><th>dlbytes</th><th>ulbytes</th><th>clientip</th><th>serverip</th><th>country</th><th>txn_time</th><th>http_method</th><th>user_agent</th><th>platform</th></tr><tr><td>str</td><td>str</td><td>str</td><td>i64</td><td>i64</td><td>str</td><td>str</td><td>str</td><td>f64</td><td>str</td><td>str</td><td>str</td></tr></thead><tbody><tr><td>&quot;2023-10-04 11:…</td><td>&quot;7773153683656&quot;</td><td>&quot;ryan-wells.co.…</td><td>872807</td><td>741526</td><td>&quot;142.132.219.11…</td><td>&quot;62.42.184.180&quot;</td><td>&quot;England&quot;</td><td>2.33</td><td>&quot;HTTPS&quot;</td><td>&quot;Mozilla/5.0 (W…</td><td>&quot;Android&quot;</td></tr><tr><td>&quot;2023-10-04 12:…</td><td>&quot;1886351675683&quot;</td><td>&quot;hopkins.org&quot;</td><td>50898</td><td>529504</td><td>&quot;184.205.48.78&quot;</td><td>&quot;152.123.41.39&quot;</td><td>&quot;Wales&quot;</td><td>1.2</td><td>&quot;HTTP&quot;</td><td>&quot;Mozilla/5.0 (W…</td><td>&quot;Android&quot;</td></tr><tr><td>&quot;2023-10-02 23:…</td><td>&quot;1597721345356&quot;</td><td>&quot;evans.com&quot;</td><td>964276</td><td>952420</td><td>&quot;189.30.60.163&quot;</td><td>&quot;68.171.236.18&quot;</td><td>&quot;Scotland&quot;</td><td>1.32</td><td>&quot;HTTP&quot;</td><td>&quot;Mozilla/5.0 (W…</td><td>&quot;Linux&quot;</td></tr><tr><td>&quot;2023-10-03 09:…</td><td>&quot;9766845800247&quot;</td><td>&quot;kelly.com&quot;</td><td>212529</td><td>811887</td><td>&quot;13.144.79.35&quot;</td><td>&quot;63.141.80.109&quot;</td><td>&quot;England&quot;</td><td>2.58</td><td>&quot;HTTPS&quot;</td><td>&quot;Opera/8.54.(X1…</td><td>&quot;Android&quot;</td></tr><tr><td>&quot;2023-10-01 08:…</td><td>&quot;1546762097287&quot;</td><td>&quot;richardson-wal…</td><td>553626</td><td>901428</td><td>&quot;143.74.163.248…</td><td>&quot;26.253.17.223&quot;</td><td>&quot;Wales&quot;</td><td>1.53</td><td>&quot;HTTP&quot;</td><td>&quot;Mozilla/5.0 (M…</td><td>&quot;Windows&quot;</td></tr></tbody></table></div>"
      ],
      "text/plain": [
       "shape: (5, 12)\n",
       "┌─────────────┬────────────┬────────────┬─────────┬───┬──────────┬───────────┬──────────┬──────────┐\n",
       "│ date_time   ┆ userid     ┆ domain     ┆ dlbytes ┆ … ┆ txn_time ┆ http_meth ┆ user_age ┆ platform │\n",
       "│ ---         ┆ ---        ┆ ---        ┆ ---     ┆   ┆ ---      ┆ od        ┆ nt       ┆ ---      │\n",
       "│ str         ┆ str        ┆ str        ┆ i64     ┆   ┆ f64      ┆ ---       ┆ ---      ┆ str      │\n",
       "│             ┆            ┆            ┆         ┆   ┆          ┆ str       ┆ str      ┆          │\n",
       "╞═════════════╪════════════╪════════════╪═════════╪═══╪══════════╪═══════════╪══════════╪══════════╡\n",
       "│ 2023-10-04  ┆ 7773153683 ┆ ryan-wells ┆ 872807  ┆ … ┆ 2.33     ┆ HTTPS     ┆ Mozilla/ ┆ Android  │\n",
       "│ 11:37:11    ┆ 656        ┆ .co.uk     ┆         ┆   ┆          ┆           ┆ 5.0 (Win ┆          │\n",
       "│             ┆            ┆            ┆         ┆   ┆          ┆           ┆ dows; U; ┆          │\n",
       "│             ┆            ┆            ┆         ┆   ┆          ┆           ┆ Windows… ┆          │\n",
       "│ 2023-10-04  ┆ 1886351675 ┆ hopkins.or ┆ 50898   ┆ … ┆ 1.2      ┆ HTTP      ┆ Mozilla/ ┆ Android  │\n",
       "│ 12:17:07    ┆ 683        ┆ g          ┆         ┆   ┆          ┆           ┆ 5.0 (Win ┆          │\n",
       "│             ┆            ┆            ┆         ┆   ┆          ┆           ┆ dows; U; ┆          │\n",
       "│             ┆            ┆            ┆         ┆   ┆          ┆           ┆ Windows… ┆          │\n",
       "│ 2023-10-02  ┆ 1597721345 ┆ evans.com  ┆ 964276  ┆ … ┆ 1.32     ┆ HTTP      ┆ Mozilla/ ┆ Linux    │\n",
       "│ 23:25:12    ┆ 356        ┆            ┆         ┆   ┆          ┆           ┆ 5.0      ┆          │\n",
       "│             ┆            ┆            ┆         ┆   ┆          ┆           ┆ (Windows ┆          │\n",
       "│             ┆            ┆            ┆         ┆   ┆          ┆           ┆ 98; Win  ┆          │\n",
       "│             ┆            ┆            ┆         ┆   ┆          ┆           ┆ 9x …     ┆          │\n",
       "│ 2023-10-03  ┆ 9766845800 ┆ kelly.com  ┆ 212529  ┆ … ┆ 2.58     ┆ HTTPS     ┆ Opera/8. ┆ Android  │\n",
       "│ 09:43:11    ┆ 247        ┆            ┆         ┆   ┆          ┆           ┆ 54.(X11; ┆          │\n",
       "│             ┆            ┆            ┆         ┆   ┆          ┆           ┆ Linux    ┆          │\n",
       "│             ┆            ┆            ┆         ┆   ┆          ┆           ┆ i686;    ┆          │\n",
       "│             ┆            ┆            ┆         ┆   ┆          ┆           ┆ ve-…     ┆          │\n",
       "│ 2023-10-01  ┆ 1546762097 ┆ richardson ┆ 553626  ┆ … ┆ 1.53     ┆ HTTP      ┆ Mozilla/ ┆ Windows  │\n",
       "│ 08:16:46    ┆ 287        ┆ -walker.bi ┆         ┆   ┆          ┆           ┆ 5.0 (Mac ┆          │\n",
       "│             ┆            ┆ z          ┆         ┆   ┆          ┆           ┆ intosh;  ┆          │\n",
       "│             ┆            ┆            ┆         ┆   ┆          ┆           ┆ Intel    ┆          │\n",
       "│             ┆            ┆            ┆         ┆   ┆          ┆           ┆ Ma…      ┆          │\n",
       "└─────────────┴────────────┴────────────┴─────────┴───┴──────────┴───────────┴──────────┴──────────┘"
      ]
     },
     "execution_count": 21,
     "metadata": {},
     "output_type": "execute_result"
    }
   ],
   "source": [
    "df.with_columns(pl.col('userid').fill_null(pl.lit(22))).head(5)"
   ]
  },
  {
   "cell_type": "code",
   "execution_count": 29,
   "id": "b8639892",
   "metadata": {},
   "outputs": [
    {
     "name": "stdout",
     "output_type": "stream",
     "text": [
      "shape: (5, 12)\n",
      "┌────────────┬────────────┬────────────┬──────────┬───┬──────────┬───────────┬──────────┬──────────┐\n",
      "│ date_time  ┆ userid     ┆ domain     ┆ dlbytes  ┆ … ┆ txn_time ┆ http_meth ┆ user_age ┆ platform │\n",
      "│ ---        ┆ ---        ┆ ---        ┆ ---      ┆   ┆ ---      ┆ od        ┆ nt       ┆ ---      │\n",
      "│ str        ┆ str        ┆ str        ┆ f64      ┆   ┆ f64      ┆ ---       ┆ ---      ┆ str      │\n",
      "│            ┆            ┆            ┆          ┆   ┆          ┆ str       ┆ str      ┆          │\n",
      "╞════════════╪════════════╪════════════╪══════════╪═══╪══════════╪═══════════╪══════════╪══════════╡\n",
      "│ 2023-10-04 ┆ 7773153683 ┆ ryan-wells ┆ 872807.0 ┆ … ┆ 2.33     ┆ HTTPS     ┆ Mozilla/ ┆ Android  │\n",
      "│ 11:37:11   ┆ 656        ┆ .co.uk     ┆          ┆   ┆          ┆           ┆ 5.0 (Win ┆          │\n",
      "│            ┆            ┆            ┆          ┆   ┆          ┆           ┆ dows; U; ┆          │\n",
      "│            ┆            ┆            ┆          ┆   ┆          ┆           ┆ Windows… ┆          │\n",
      "│ 2023-10-04 ┆ 1886351675 ┆ hopkins.or ┆ 50898.0  ┆ … ┆ 1.2      ┆ HTTP      ┆ Mozilla/ ┆ Android  │\n",
      "│ 12:17:07   ┆ 683        ┆ g          ┆          ┆   ┆          ┆           ┆ 5.0 (Win ┆          │\n",
      "│            ┆            ┆            ┆          ┆   ┆          ┆           ┆ dows; U; ┆          │\n",
      "│            ┆            ┆            ┆          ┆   ┆          ┆           ┆ Windows… ┆          │\n",
      "│ 2023-10-02 ┆ 1597721345 ┆ evans.com  ┆ 964276.0 ┆ … ┆ 1.32     ┆ HTTP      ┆ Mozilla/ ┆ Linux    │\n",
      "│ 23:25:12   ┆ 356        ┆            ┆          ┆   ┆          ┆           ┆ 5.0      ┆          │\n",
      "│            ┆            ┆            ┆          ┆   ┆          ┆           ┆ (Windows ┆          │\n",
      "│            ┆            ┆            ┆          ┆   ┆          ┆           ┆ 98; Win  ┆          │\n",
      "│            ┆            ┆            ┆          ┆   ┆          ┆           ┆ 9x …     ┆          │\n",
      "│ 2023-10-03 ┆ 9766845800 ┆ kelly.com  ┆ 212529.0 ┆ … ┆ 2.58     ┆ HTTPS     ┆ Opera/8. ┆ Android  │\n",
      "│ 09:43:11   ┆ 247        ┆            ┆          ┆   ┆          ┆           ┆ 54.(X11; ┆          │\n",
      "│            ┆            ┆            ┆          ┆   ┆          ┆           ┆ Linux    ┆          │\n",
      "│            ┆            ┆            ┆          ┆   ┆          ┆           ┆ i686;    ┆          │\n",
      "│            ┆            ┆            ┆          ┆   ┆          ┆           ┆ ve-…     ┆          │\n",
      "│ 2023-10-01 ┆ 1546762097 ┆ richardson ┆ 553626.0 ┆ … ┆ 1.53     ┆ HTTP      ┆ Mozilla/ ┆ Windows  │\n",
      "│ 08:16:46   ┆ 287        ┆ -walker.bi ┆          ┆   ┆          ┆           ┆ 5.0 (Mac ┆          │\n",
      "│            ┆            ┆ z          ┆          ┆   ┆          ┆           ┆ intosh;  ┆          │\n",
      "│            ┆            ┆            ┆          ┆   ┆          ┆           ┆ Intel    ┆          │\n",
      "│            ┆            ┆            ┆          ┆   ┆          ┆           ┆ Ma…      ┆          │\n",
      "└────────────┴────────────┴────────────┴──────────┴───┴──────────┴───────────┴──────────┴──────────┘\n"
     ]
    }
   ],
   "source": [
    "median_val = df['dlbytes'].median()          # скаляр\n",
    "df = df.with_columns(pl.col('dlbytes').fill_null(median_val))\n",
    "print(df.head(5))"
   ]
  },
  {
   "cell_type": "code",
   "execution_count": 30,
   "id": "cc9d3103",
   "metadata": {},
   "outputs": [
    {
     "data": {
      "text/html": [
       "<div><style>\n",
       ".dataframe > thead > tr > th,\n",
       ".dataframe > tbody > tr > td {\n",
       "  text-align: right;\n",
       "}\n",
       "</style>\n",
       "<small>shape: (100000, 12)</small><table border=\"1\" class=\"dataframe\"><thead><tr><th>date_time</th><th>userid</th><th>domain</th><th>dlbytes</th><th>ulbytes</th><th>clientip</th><th>serverip</th><th>country</th><th>txn_time</th><th>http_method</th><th>user_agent</th><th>platform</th></tr><tr><td>str</td><td>str</td><td>str</td><td>f64</td><td>i64</td><td>str</td><td>str</td><td>str</td><td>f64</td><td>str</td><td>str</td><td>str</td></tr></thead><tbody><tr><td>&quot;2023-10-04 11:…</td><td>&quot;7773153683656&quot;</td><td>&quot;ryan-wells.co.…</td><td>872807.0</td><td>741526</td><td>&quot;142.132.219.11…</td><td>&quot;62.42.184.180&quot;</td><td>&quot;England&quot;</td><td>2.33</td><td>&quot;HTTPS&quot;</td><td>&quot;Mozilla/5.0 (W…</td><td>&quot;Android&quot;</td></tr><tr><td>&quot;2023-10-04 12:…</td><td>&quot;1886351675683&quot;</td><td>&quot;hopkins.org&quot;</td><td>50898.0</td><td>529504</td><td>&quot;184.205.48.78&quot;</td><td>&quot;152.123.41.39&quot;</td><td>&quot;Wales&quot;</td><td>1.2</td><td>&quot;HTTP&quot;</td><td>&quot;Mozilla/5.0 (W…</td><td>&quot;Android&quot;</td></tr><tr><td>&quot;2023-10-02 23:…</td><td>&quot;1597721345356&quot;</td><td>&quot;evans.com&quot;</td><td>964276.0</td><td>952420</td><td>&quot;189.30.60.163&quot;</td><td>&quot;68.171.236.18&quot;</td><td>&quot;Scotland&quot;</td><td>1.32</td><td>&quot;HTTP&quot;</td><td>&quot;Mozilla/5.0 (W…</td><td>&quot;Linux&quot;</td></tr><tr><td>&quot;2023-10-03 09:…</td><td>&quot;9766845800247&quot;</td><td>&quot;kelly.com&quot;</td><td>212529.0</td><td>811887</td><td>&quot;13.144.79.35&quot;</td><td>&quot;63.141.80.109&quot;</td><td>&quot;England&quot;</td><td>2.58</td><td>&quot;HTTPS&quot;</td><td>&quot;Opera/8.54.(X1…</td><td>&quot;Android&quot;</td></tr><tr><td>&quot;2023-10-01 08:…</td><td>&quot;1546762097287&quot;</td><td>&quot;richardson-wal…</td><td>553626.0</td><td>901428</td><td>&quot;143.74.163.248…</td><td>&quot;26.253.17.223&quot;</td><td>&quot;Wales&quot;</td><td>1.53</td><td>&quot;HTTP&quot;</td><td>&quot;Mozilla/5.0 (M…</td><td>&quot;Windows&quot;</td></tr><tr><td>&quot;2023-10-01 13:…</td><td>&quot;8949163845658&quot;</td><td>&quot;lowe.com&quot;</td><td>43595.0</td><td>77597</td><td>&quot;148.15.214.37&quot;</td><td>&quot;4.33.9.229&quot;</td><td>&quot;England&quot;</td><td>1.68</td><td>&quot;HTTP&quot;</td><td>&quot;Mozilla/5.0 (L…</td><td>&quot;Mac&quot;</td></tr><tr><td>&quot;2023-10-02 02:…</td><td>&quot;8035878244556&quot;</td><td>&quot;webb.com&quot;</td><td>270574.0</td><td>94701</td><td>&quot;73.78.116.223&quot;</td><td>&quot;82.69.61.25&quot;</td><td>&quot;England&quot;</td><td>2.19</td><td>&quot;HTTPS&quot;</td><td>&quot;Mozilla/5.0 (W…</td><td>&quot;Windows&quot;</td></tr><tr><td>&quot;2023-10-03 11:…</td><td>&quot;3400788003398&quot;</td><td>&quot;watts.com&quot;</td><td>342378.0</td><td>715125</td><td>&quot;142.37.27.131&quot;</td><td>&quot;41.152.174.228…</td><td>&quot;Scotland&quot;</td><td>2.92</td><td>&quot;HTTP&quot;</td><td>&quot;Opera/8.53.(Wi…</td><td>&quot;Linux&quot;</td></tr><tr><td>&quot;2023-10-02 12:…</td><td>&quot;7007039082075&quot;</td><td>&quot;kemp-robinson.…</td><td>613214.0</td><td>239494</td><td>&quot;80.245.249.129…</td><td>&quot;198.186.190.14…</td><td>&quot;Scotland&quot;</td><td>1.78</td><td>&quot;HTTPS&quot;</td><td>&quot;Mozilla/5.0 (X…</td><td>&quot;Mac&quot;</td></tr><tr><td>&quot;2023-10-03 08:…</td><td>&quot;0893913938070&quot;</td><td>&quot;smith.com&quot;</td><td>643362.0</td><td>146752</td><td>&quot;21.239.54.8&quot;</td><td>&quot;136.170.182.7&quot;</td><td>&quot;England&quot;</td><td>0.58</td><td>&quot;HTTPS&quot;</td><td>&quot;Mozilla/5.0 (A…</td><td>&quot;Windows&quot;</td></tr><tr><td>&quot;2023-10-05 21:…</td><td>&quot;3102780874474&quot;</td><td>&quot;wilson-butler.…</td><td>603759.0</td><td>616834</td><td>&quot;57.113.168.155…</td><td>&quot;162.232.192.22…</td><td>&quot;Ireland&quot;</td><td>2.42</td><td>&quot;HTTPS&quot;</td><td>&quot;Mozilla/5.0 (A…</td><td>&quot;Mac&quot;</td></tr><tr><td>&quot;2023-10-02 03:…</td><td>&quot;7214908687567&quot;</td><td>&quot;hunt.com&quot;</td><td>707145.0</td><td>995270</td><td>&quot;98.141.197.15&quot;</td><td>&quot;107.239.246.38…</td><td>&quot;England&quot;</td><td>1.95</td><td>&quot;HTTP&quot;</td><td>&quot;Opera/9.31.(Wi…</td><td>&quot;iOS&quot;</td></tr><tr><td>&hellip;</td><td>&hellip;</td><td>&hellip;</td><td>&hellip;</td><td>&hellip;</td><td>&hellip;</td><td>&hellip;</td><td>&hellip;</td><td>&hellip;</td><td>&hellip;</td><td>&hellip;</td><td>&hellip;</td></tr><tr><td>&quot;2023-10-01 03:…</td><td>&quot;0412200930900&quot;</td><td>&quot;nicholson.com&quot;</td><td>624616.0</td><td>142182</td><td>&quot;183.122.177.22…</td><td>&quot;165.203.72.219…</td><td>&quot;Scotland&quot;</td><td>1.34</td><td>&quot;HTTPS&quot;</td><td>&quot;Mozilla/5.0 (M…</td><td>&quot;Android&quot;</td></tr><tr><td>&quot;2023-10-04 10:…</td><td>&quot;2122202704980&quot;</td><td>&quot;ahmed-walker.o…</td><td>774588.0</td><td>881198</td><td>&quot;204.199.193.18…</td><td>&quot;1.251.221.9&quot;</td><td>&quot;Scotland&quot;</td><td>0.04</td><td>&quot;HTTPS&quot;</td><td>&quot;Mozilla/5.0 (c…</td><td>&quot;Android&quot;</td></tr><tr><td>&quot;2023-10-03 20:…</td><td>&quot;2920695184232&quot;</td><td>&quot;taylor.co.uk&quot;</td><td>289242.0</td><td>513890</td><td>&quot;138.89.213.90&quot;</td><td>&quot;38.237.76.227&quot;</td><td>&quot;Ireland&quot;</td><td>1.96</td><td>&quot;HTTP&quot;</td><td>&quot;Mozilla/5.0 (W…</td><td>&quot;Windows&quot;</td></tr><tr><td>&quot;2023-10-02 10:…</td><td>&quot;8005777164850&quot;</td><td>&quot;oconnor-hayes.…</td><td>726802.0</td><td>745607</td><td>&quot;132.2.109.125&quot;</td><td>&quot;194.168.145.22…</td><td>&quot;Scotland&quot;</td><td>0.79</td><td>&quot;HTTPS&quot;</td><td>&quot;Mozilla/5.0 (c…</td><td>&quot;Windows&quot;</td></tr><tr><td>&quot;2023-10-05 02:…</td><td>&quot;4020822483344&quot;</td><td>&quot;miller.com&quot;</td><td>512743.0</td><td>278606</td><td>&quot;42.3.135.58&quot;</td><td>&quot;109.200.208.13…</td><td>&quot;Ireland&quot;</td><td>1.74</td><td>&quot;HTTPS&quot;</td><td>&quot;Mozilla/5.0 (c…</td><td>&quot;Windows&quot;</td></tr><tr><td>&quot;2023-10-02 07:…</td><td>&quot;1070501782984&quot;</td><td>&quot;brown-saunders…</td><td>438065.0</td><td>123356</td><td>&quot;160.244.225.14…</td><td>&quot;205.249.44.64&quot;</td><td>&quot;Scotland&quot;</td><td>2.21</td><td>&quot;HTTPS&quot;</td><td>&quot;Mozilla/5.0 (L…</td><td>&quot;Mac&quot;</td></tr><tr><td>&quot;2023-10-01 13:…</td><td>&quot;3085887667030&quot;</td><td>&quot;williams-benso…</td><td>995977.0</td><td>210577</td><td>&quot;19.113.17.12&quot;</td><td>&quot;14.152.42.205&quot;</td><td>&quot;Wales&quot;</td><td>2.48</td><td>&quot;HTTP&quot;</td><td>&quot;Opera/9.79.(Wi…</td><td>&quot;Linux&quot;</td></tr><tr><td>&quot;2023-10-02 19:…</td><td>&quot;4509087590322&quot;</td><td>&quot;berry.co.uk&quot;</td><td>369884.0</td><td>390349</td><td>&quot;74.141.235.40&quot;</td><td>&quot;77.34.183.69&quot;</td><td>&quot;Scotland&quot;</td><td>2.95</td><td>&quot;HTTP&quot;</td><td>&quot;Mozilla/5.0 (i…</td><td>&quot;Windows&quot;</td></tr><tr><td>&quot;2023-10-01 19:…</td><td>&quot;8113107789552&quot;</td><td>&quot;fox-baker.biz&quot;</td><td>903806.0</td><td>722531</td><td>&quot;208.43.30.51&quot;</td><td>&quot;167.168.187.4&quot;</td><td>&quot;Ireland&quot;</td><td>0.04</td><td>&quot;HTTPS&quot;</td><td>&quot;Mozilla/5.0 (W…</td><td>&quot;Android&quot;</td></tr><tr><td>&quot;2023-10-03 15:…</td><td>&quot;0346350168972&quot;</td><td>&quot;phillips.com&quot;</td><td>960762.0</td><td>239623</td><td>&quot;201.234.188.11…</td><td>&quot;126.136.250.20…</td><td>&quot;Scotland&quot;</td><td>0.76</td><td>&quot;HTTPS&quot;</td><td>&quot;Opera/8.86.(X1…</td><td>&quot;Linux&quot;</td></tr><tr><td>&quot;2023-10-04 05:…</td><td>&quot;3489765231586&quot;</td><td>&quot;clarke-parsons…</td><td>757315.0</td><td>796904</td><td>&quot;10.109.179.143…</td><td>&quot;142.246.255.20…</td><td>&quot;Ireland&quot;</td><td>2.54</td><td>&quot;HTTP&quot;</td><td>&quot;Opera/8.27.(X1…</td><td>&quot;Linux&quot;</td></tr><tr><td>&quot;2023-10-04 20:…</td><td>&quot;4668345200091&quot;</td><td>&quot;cox.com&quot;</td><td>295770.0</td><td>820163</td><td>&quot;195.17.113.112…</td><td>&quot;211.15.120.53&quot;</td><td>&quot;Ireland&quot;</td><td>2.62</td><td>&quot;HTTP&quot;</td><td>&quot;Mozilla/5.0 (X…</td><td>&quot;Linux&quot;</td></tr></tbody></table></div>"
      ],
      "text/plain": [
       "shape: (100_000, 12)\n",
       "┌────────────┬────────────┬────────────┬──────────┬───┬──────────┬───────────┬──────────┬──────────┐\n",
       "│ date_time  ┆ userid     ┆ domain     ┆ dlbytes  ┆ … ┆ txn_time ┆ http_meth ┆ user_age ┆ platform │\n",
       "│ ---        ┆ ---        ┆ ---        ┆ ---      ┆   ┆ ---      ┆ od        ┆ nt       ┆ ---      │\n",
       "│ str        ┆ str        ┆ str        ┆ f64      ┆   ┆ f64      ┆ ---       ┆ ---      ┆ str      │\n",
       "│            ┆            ┆            ┆          ┆   ┆          ┆ str       ┆ str      ┆          │\n",
       "╞════════════╪════════════╪════════════╪══════════╪═══╪══════════╪═══════════╪══════════╪══════════╡\n",
       "│ 2023-10-04 ┆ 7773153683 ┆ ryan-wells ┆ 872807.0 ┆ … ┆ 2.33     ┆ HTTPS     ┆ Mozilla/ ┆ Android  │\n",
       "│ 11:37:11   ┆ 656        ┆ .co.uk     ┆          ┆   ┆          ┆           ┆ 5.0 (Win ┆          │\n",
       "│            ┆            ┆            ┆          ┆   ┆          ┆           ┆ dows; U; ┆          │\n",
       "│            ┆            ┆            ┆          ┆   ┆          ┆           ┆ Windows… ┆          │\n",
       "│ 2023-10-04 ┆ 1886351675 ┆ hopkins.or ┆ 50898.0  ┆ … ┆ 1.2      ┆ HTTP      ┆ Mozilla/ ┆ Android  │\n",
       "│ 12:17:07   ┆ 683        ┆ g          ┆          ┆   ┆          ┆           ┆ 5.0 (Win ┆          │\n",
       "│            ┆            ┆            ┆          ┆   ┆          ┆           ┆ dows; U; ┆          │\n",
       "│            ┆            ┆            ┆          ┆   ┆          ┆           ┆ Windows… ┆          │\n",
       "│ 2023-10-02 ┆ 1597721345 ┆ evans.com  ┆ 964276.0 ┆ … ┆ 1.32     ┆ HTTP      ┆ Mozilla/ ┆ Linux    │\n",
       "│ 23:25:12   ┆ 356        ┆            ┆          ┆   ┆          ┆           ┆ 5.0      ┆          │\n",
       "│            ┆            ┆            ┆          ┆   ┆          ┆           ┆ (Windows ┆          │\n",
       "│            ┆            ┆            ┆          ┆   ┆          ┆           ┆ 98; Win  ┆          │\n",
       "│            ┆            ┆            ┆          ┆   ┆          ┆           ┆ 9x …     ┆          │\n",
       "│ 2023-10-03 ┆ 9766845800 ┆ kelly.com  ┆ 212529.0 ┆ … ┆ 2.58     ┆ HTTPS     ┆ Opera/8. ┆ Android  │\n",
       "│ 09:43:11   ┆ 247        ┆            ┆          ┆   ┆          ┆           ┆ 54.(X11; ┆          │\n",
       "│            ┆            ┆            ┆          ┆   ┆          ┆           ┆ Linux    ┆          │\n",
       "│            ┆            ┆            ┆          ┆   ┆          ┆           ┆ i686;    ┆          │\n",
       "│            ┆            ┆            ┆          ┆   ┆          ┆           ┆ ve-…     ┆          │\n",
       "│ …          ┆ …          ┆ …          ┆ …        ┆ … ┆ …        ┆ …         ┆ …        ┆ …        │\n",
       "│ 2023-10-01 ┆ 8113107789 ┆ fox-baker. ┆ 903806.0 ┆ … ┆ 0.04     ┆ HTTPS     ┆ Mozilla/ ┆ Android  │\n",
       "│ 19:24:08   ┆ 552        ┆ biz        ┆          ┆   ┆          ┆           ┆ 5.0 (Win ┆          │\n",
       "│            ┆            ┆            ┆          ┆   ┆          ┆           ┆ dows; U; ┆          │\n",
       "│            ┆            ┆            ┆          ┆   ┆          ┆           ┆ Windows… ┆          │\n",
       "│ 2023-10-03 ┆ 0346350168 ┆ phillips.c ┆ 960762.0 ┆ … ┆ 0.76     ┆ HTTPS     ┆ Opera/8. ┆ Linux    │\n",
       "│ 15:28:12   ┆ 972        ┆ om         ┆          ┆   ┆          ┆           ┆ 86.(X11; ┆          │\n",
       "│            ┆            ┆            ┆          ┆   ┆          ┆           ┆ Linux    ┆          │\n",
       "│            ┆            ┆            ┆          ┆   ┆          ┆           ┆ x86_64;  ┆          │\n",
       "│            ┆            ┆            ┆          ┆   ┆          ┆           ┆ e…       ┆          │\n",
       "│ 2023-10-04 ┆ 3489765231 ┆ clarke-par ┆ 757315.0 ┆ … ┆ 2.54     ┆ HTTP      ┆ Opera/8. ┆ Linux    │\n",
       "│ 05:26:28   ┆ 586        ┆ sons.co.uk ┆          ┆   ┆          ┆           ┆ 27.(X11; ┆          │\n",
       "│            ┆            ┆            ┆          ┆   ┆          ┆           ┆ Linux    ┆          │\n",
       "│            ┆            ┆            ┆          ┆   ┆          ┆           ┆ x86_64;  ┆          │\n",
       "│            ┆            ┆            ┆          ┆   ┆          ┆           ┆ a…       ┆          │\n",
       "│ 2023-10-04 ┆ 4668345200 ┆ cox.com    ┆ 295770.0 ┆ … ┆ 2.62     ┆ HTTP      ┆ Mozilla/ ┆ Linux    │\n",
       "│ 20:40:11   ┆ 091        ┆            ┆          ┆   ┆          ┆           ┆ 5.0      ┆          │\n",
       "│            ┆            ┆            ┆          ┆   ┆          ┆           ┆ (X11;    ┆          │\n",
       "│            ┆            ┆            ┆          ┆   ┆          ┆           ┆ Linux    ┆          │\n",
       "│            ┆            ┆            ┆          ┆   ┆          ┆           ┆ x86_64;  ┆          │\n",
       "│            ┆            ┆            ┆          ┆   ┆          ┆           ┆ …        ┆          │\n",
       "└────────────┴────────────┴────────────┴──────────┴───┴──────────┴───────────┴──────────┴──────────┘"
      ]
     },
     "execution_count": 30,
     "metadata": {},
     "output_type": "execute_result"
    }
   ],
   "source": [
    "df.fill_nan(344)"
   ]
  },
  {
   "cell_type": "code",
   "execution_count": 31,
   "id": "6c98aa25",
   "metadata": {},
   "outputs": [
    {
     "data": {
      "text/html": [
       "<div><style>\n",
       ".dataframe > thead > tr > th,\n",
       ".dataframe > tbody > tr > td {\n",
       "  text-align: right;\n",
       "}\n",
       "</style>\n",
       "<small>shape: (5, 12)</small><table border=\"1\" class=\"dataframe\"><thead><tr><th>date_time</th><th>userid</th><th>domain</th><th>dlbytes</th><th>ulbytes</th><th>clientip</th><th>serverip</th><th>country</th><th>txn_time</th><th>http_method</th><th>user_agent</th><th>platform</th></tr><tr><td>str</td><td>str</td><td>str</td><td>f64</td><td>i64</td><td>str</td><td>str</td><td>str</td><td>f64</td><td>str</td><td>str</td><td>str</td></tr></thead><tbody><tr><td>&quot;2023-10-04 11:…</td><td>&quot;7773153683656&quot;</td><td>&quot;ryan-wells.co.…</td><td>872807.0</td><td>741526</td><td>&quot;142.132.219.11…</td><td>&quot;62.42.184.180&quot;</td><td>&quot;England&quot;</td><td>2.33</td><td>&quot;HTTPS&quot;</td><td>&quot;Mozilla/5.0 (W…</td><td>&quot;Android&quot;</td></tr><tr><td>&quot;2023-10-04 12:…</td><td>&quot;1886351675683&quot;</td><td>&quot;hopkins.org&quot;</td><td>50898.0</td><td>529504</td><td>&quot;184.205.48.78&quot;</td><td>&quot;152.123.41.39&quot;</td><td>&quot;Wales&quot;</td><td>1.2</td><td>&quot;HTTP&quot;</td><td>&quot;Mozilla/5.0 (W…</td><td>&quot;Android&quot;</td></tr><tr><td>&quot;2023-10-02 23:…</td><td>&quot;1597721345356&quot;</td><td>&quot;evans.com&quot;</td><td>964276.0</td><td>952420</td><td>&quot;189.30.60.163&quot;</td><td>&quot;68.171.236.18&quot;</td><td>&quot;Scotland&quot;</td><td>1.32</td><td>&quot;HTTP&quot;</td><td>&quot;Mozilla/5.0 (W…</td><td>&quot;Linux&quot;</td></tr><tr><td>&quot;2023-10-03 09:…</td><td>&quot;9766845800247&quot;</td><td>&quot;kelly.com&quot;</td><td>212529.0</td><td>811887</td><td>&quot;13.144.79.35&quot;</td><td>&quot;63.141.80.109&quot;</td><td>&quot;England&quot;</td><td>2.58</td><td>&quot;HTTPS&quot;</td><td>&quot;Opera/8.54.(X1…</td><td>&quot;Android&quot;</td></tr><tr><td>&quot;2023-10-01 08:…</td><td>&quot;1546762097287&quot;</td><td>&quot;richardson-wal…</td><td>553626.0</td><td>901428</td><td>&quot;143.74.163.248…</td><td>&quot;26.253.17.223&quot;</td><td>&quot;Wales&quot;</td><td>1.53</td><td>&quot;HTTP&quot;</td><td>&quot;Mozilla/5.0 (M…</td><td>&quot;Windows&quot;</td></tr></tbody></table></div>"
      ],
      "text/plain": [
       "shape: (5, 12)\n",
       "┌────────────┬────────────┬────────────┬──────────┬───┬──────────┬───────────┬──────────┬──────────┐\n",
       "│ date_time  ┆ userid     ┆ domain     ┆ dlbytes  ┆ … ┆ txn_time ┆ http_meth ┆ user_age ┆ platform │\n",
       "│ ---        ┆ ---        ┆ ---        ┆ ---      ┆   ┆ ---      ┆ od        ┆ nt       ┆ ---      │\n",
       "│ str        ┆ str        ┆ str        ┆ f64      ┆   ┆ f64      ┆ ---       ┆ ---      ┆ str      │\n",
       "│            ┆            ┆            ┆          ┆   ┆          ┆ str       ┆ str      ┆          │\n",
       "╞════════════╪════════════╪════════════╪══════════╪═══╪══════════╪═══════════╪══════════╪══════════╡\n",
       "│ 2023-10-04 ┆ 7773153683 ┆ ryan-wells ┆ 872807.0 ┆ … ┆ 2.33     ┆ HTTPS     ┆ Mozilla/ ┆ Android  │\n",
       "│ 11:37:11   ┆ 656        ┆ .co.uk     ┆          ┆   ┆          ┆           ┆ 5.0 (Win ┆          │\n",
       "│            ┆            ┆            ┆          ┆   ┆          ┆           ┆ dows; U; ┆          │\n",
       "│            ┆            ┆            ┆          ┆   ┆          ┆           ┆ Windows… ┆          │\n",
       "│ 2023-10-04 ┆ 1886351675 ┆ hopkins.or ┆ 50898.0  ┆ … ┆ 1.2      ┆ HTTP      ┆ Mozilla/ ┆ Android  │\n",
       "│ 12:17:07   ┆ 683        ┆ g          ┆          ┆   ┆          ┆           ┆ 5.0 (Win ┆          │\n",
       "│            ┆            ┆            ┆          ┆   ┆          ┆           ┆ dows; U; ┆          │\n",
       "│            ┆            ┆            ┆          ┆   ┆          ┆           ┆ Windows… ┆          │\n",
       "│ 2023-10-02 ┆ 1597721345 ┆ evans.com  ┆ 964276.0 ┆ … ┆ 1.32     ┆ HTTP      ┆ Mozilla/ ┆ Linux    │\n",
       "│ 23:25:12   ┆ 356        ┆            ┆          ┆   ┆          ┆           ┆ 5.0      ┆          │\n",
       "│            ┆            ┆            ┆          ┆   ┆          ┆           ┆ (Windows ┆          │\n",
       "│            ┆            ┆            ┆          ┆   ┆          ┆           ┆ 98; Win  ┆          │\n",
       "│            ┆            ┆            ┆          ┆   ┆          ┆           ┆ 9x …     ┆          │\n",
       "│ 2023-10-03 ┆ 9766845800 ┆ kelly.com  ┆ 212529.0 ┆ … ┆ 2.58     ┆ HTTPS     ┆ Opera/8. ┆ Android  │\n",
       "│ 09:43:11   ┆ 247        ┆            ┆          ┆   ┆          ┆           ┆ 54.(X11; ┆          │\n",
       "│            ┆            ┆            ┆          ┆   ┆          ┆           ┆ Linux    ┆          │\n",
       "│            ┆            ┆            ┆          ┆   ┆          ┆           ┆ i686;    ┆          │\n",
       "│            ┆            ┆            ┆          ┆   ┆          ┆           ┆ ve-…     ┆          │\n",
       "│ 2023-10-01 ┆ 1546762097 ┆ richardson ┆ 553626.0 ┆ … ┆ 1.53     ┆ HTTP      ┆ Mozilla/ ┆ Windows  │\n",
       "│ 08:16:46   ┆ 287        ┆ -walker.bi ┆          ┆   ┆          ┆           ┆ 5.0 (Mac ┆          │\n",
       "│            ┆            ┆ z          ┆          ┆   ┆          ┆           ┆ intosh;  ┆          │\n",
       "│            ┆            ┆            ┆          ┆   ┆          ┆           ┆ Intel    ┆          │\n",
       "│            ┆            ┆            ┆          ┆   ┆          ┆           ┆ Ma…      ┆          │\n",
       "└────────────┴────────────┴────────────┴──────────┴───┴──────────┴───────────┴──────────┴──────────┘"
      ]
     },
     "execution_count": 31,
     "metadata": {},
     "output_type": "execute_result"
    }
   ],
   "source": [
    "df.select(pl.col('*')).head(5)"
   ]
  },
  {
   "cell_type": "code",
   "execution_count": 32,
   "id": "c4ec47fd",
   "metadata": {},
   "outputs": [
    {
     "data": {
      "text/html": [
       "<div><style>\n",
       ".dataframe > thead > tr > th,\n",
       ".dataframe > tbody > tr > td {\n",
       "  text-align: right;\n",
       "}\n",
       "</style>\n",
       "<small>shape: (5, 10)</small><table border=\"1\" class=\"dataframe\"><thead><tr><th>date_time</th><th>userid</th><th>domain</th><th>clientip</th><th>serverip</th><th>country</th><th>txn_time</th><th>http_method</th><th>user_agent</th><th>platform</th></tr><tr><td>str</td><td>str</td><td>str</td><td>str</td><td>str</td><td>str</td><td>f64</td><td>str</td><td>str</td><td>str</td></tr></thead><tbody><tr><td>&quot;2023-10-04 11:…</td><td>&quot;7773153683656&quot;</td><td>&quot;ryan-wells.co.…</td><td>&quot;142.132.219.11…</td><td>&quot;62.42.184.180&quot;</td><td>&quot;England&quot;</td><td>2.33</td><td>&quot;HTTPS&quot;</td><td>&quot;Mozilla/5.0 (W…</td><td>&quot;Android&quot;</td></tr><tr><td>&quot;2023-10-04 12:…</td><td>&quot;1886351675683&quot;</td><td>&quot;hopkins.org&quot;</td><td>&quot;184.205.48.78&quot;</td><td>&quot;152.123.41.39&quot;</td><td>&quot;Wales&quot;</td><td>1.2</td><td>&quot;HTTP&quot;</td><td>&quot;Mozilla/5.0 (W…</td><td>&quot;Android&quot;</td></tr><tr><td>&quot;2023-10-02 23:…</td><td>&quot;1597721345356&quot;</td><td>&quot;evans.com&quot;</td><td>&quot;189.30.60.163&quot;</td><td>&quot;68.171.236.18&quot;</td><td>&quot;Scotland&quot;</td><td>1.32</td><td>&quot;HTTP&quot;</td><td>&quot;Mozilla/5.0 (W…</td><td>&quot;Linux&quot;</td></tr><tr><td>&quot;2023-10-03 09:…</td><td>&quot;9766845800247&quot;</td><td>&quot;kelly.com&quot;</td><td>&quot;13.144.79.35&quot;</td><td>&quot;63.141.80.109&quot;</td><td>&quot;England&quot;</td><td>2.58</td><td>&quot;HTTPS&quot;</td><td>&quot;Opera/8.54.(X1…</td><td>&quot;Android&quot;</td></tr><tr><td>&quot;2023-10-01 08:…</td><td>&quot;1546762097287&quot;</td><td>&quot;richardson-wal…</td><td>&quot;143.74.163.248…</td><td>&quot;26.253.17.223&quot;</td><td>&quot;Wales&quot;</td><td>1.53</td><td>&quot;HTTP&quot;</td><td>&quot;Mozilla/5.0 (M…</td><td>&quot;Windows&quot;</td></tr></tbody></table></div>"
      ],
      "text/plain": [
       "shape: (5, 10)\n",
       "┌────────────┬────────────┬───────────┬───────────┬───┬──────────┬───────────┬──────────┬──────────┐\n",
       "│ date_time  ┆ userid     ┆ domain    ┆ clientip  ┆ … ┆ txn_time ┆ http_meth ┆ user_age ┆ platform │\n",
       "│ ---        ┆ ---        ┆ ---       ┆ ---       ┆   ┆ ---      ┆ od        ┆ nt       ┆ ---      │\n",
       "│ str        ┆ str        ┆ str       ┆ str       ┆   ┆ f64      ┆ ---       ┆ ---      ┆ str      │\n",
       "│            ┆            ┆           ┆           ┆   ┆          ┆ str       ┆ str      ┆          │\n",
       "╞════════════╪════════════╪═══════════╪═══════════╪═══╪══════════╪═══════════╪══════════╪══════════╡\n",
       "│ 2023-10-04 ┆ 7773153683 ┆ ryan-well ┆ 142.132.2 ┆ … ┆ 2.33     ┆ HTTPS     ┆ Mozilla/ ┆ Android  │\n",
       "│ 11:37:11   ┆ 656        ┆ s.co.uk   ┆ 19.110    ┆   ┆          ┆           ┆ 5.0 (Win ┆          │\n",
       "│            ┆            ┆           ┆           ┆   ┆          ┆           ┆ dows; U; ┆          │\n",
       "│            ┆            ┆           ┆           ┆   ┆          ┆           ┆ Windows… ┆          │\n",
       "│ 2023-10-04 ┆ 1886351675 ┆ hopkins.o ┆ 184.205.4 ┆ … ┆ 1.2      ┆ HTTP      ┆ Mozilla/ ┆ Android  │\n",
       "│ 12:17:07   ┆ 683        ┆ rg        ┆ 8.78      ┆   ┆          ┆           ┆ 5.0 (Win ┆          │\n",
       "│            ┆            ┆           ┆           ┆   ┆          ┆           ┆ dows; U; ┆          │\n",
       "│            ┆            ┆           ┆           ┆   ┆          ┆           ┆ Windows… ┆          │\n",
       "│ 2023-10-02 ┆ 1597721345 ┆ evans.com ┆ 189.30.60 ┆ … ┆ 1.32     ┆ HTTP      ┆ Mozilla/ ┆ Linux    │\n",
       "│ 23:25:12   ┆ 356        ┆           ┆ .163      ┆   ┆          ┆           ┆ 5.0      ┆          │\n",
       "│            ┆            ┆           ┆           ┆   ┆          ┆           ┆ (Windows ┆          │\n",
       "│            ┆            ┆           ┆           ┆   ┆          ┆           ┆ 98; Win  ┆          │\n",
       "│            ┆            ┆           ┆           ┆   ┆          ┆           ┆ 9x …     ┆          │\n",
       "│ 2023-10-03 ┆ 9766845800 ┆ kelly.com ┆ 13.144.79 ┆ … ┆ 2.58     ┆ HTTPS     ┆ Opera/8. ┆ Android  │\n",
       "│ 09:43:11   ┆ 247        ┆           ┆ .35       ┆   ┆          ┆           ┆ 54.(X11; ┆          │\n",
       "│            ┆            ┆           ┆           ┆   ┆          ┆           ┆ Linux    ┆          │\n",
       "│            ┆            ┆           ┆           ┆   ┆          ┆           ┆ i686;    ┆          │\n",
       "│            ┆            ┆           ┆           ┆   ┆          ┆           ┆ ve-…     ┆          │\n",
       "│ 2023-10-01 ┆ 1546762097 ┆ richardso ┆ 143.74.16 ┆ … ┆ 1.53     ┆ HTTP      ┆ Mozilla/ ┆ Windows  │\n",
       "│ 08:16:46   ┆ 287        ┆ n-walker. ┆ 3.248     ┆   ┆          ┆           ┆ 5.0 (Mac ┆          │\n",
       "│            ┆            ┆ biz       ┆           ┆   ┆          ┆           ┆ intosh;  ┆          │\n",
       "│            ┆            ┆           ┆           ┆   ┆          ┆           ┆ Intel    ┆          │\n",
       "│            ┆            ┆           ┆           ┆   ┆          ┆           ┆ Ma…      ┆          │\n",
       "└────────────┴────────────┴───────────┴───────────┴───┴──────────┴───────────┴──────────┴──────────┘"
      ]
     },
     "execution_count": 32,
     "metadata": {},
     "output_type": "execute_result"
    }
   ],
   "source": [
    "df.select(pl.col('*').exclude('dlbytes', 'ulbytes')).head(5)"
   ]
  },
  {
   "cell_type": "code",
   "execution_count": 33,
   "id": "68274850",
   "metadata": {},
   "outputs": [
    {
     "data": {
      "text/html": [
       "<div><style>\n",
       ".dataframe > thead > tr > th,\n",
       ".dataframe > tbody > tr > td {\n",
       "  text-align: right;\n",
       "}\n",
       "</style>\n",
       "<small>shape: (5, 2)</small><table border=\"1\" class=\"dataframe\"><thead><tr><th>dlbytes</th><th>ulbytes</th></tr><tr><td>f64</td><td>i64</td></tr></thead><tbody><tr><td>872807.0</td><td>741526</td></tr><tr><td>50898.0</td><td>529504</td></tr><tr><td>964276.0</td><td>952420</td></tr><tr><td>212529.0</td><td>811887</td></tr><tr><td>553626.0</td><td>901428</td></tr></tbody></table></div>"
      ],
      "text/plain": [
       "shape: (5, 2)\n",
       "┌──────────┬─────────┐\n",
       "│ dlbytes  ┆ ulbytes │\n",
       "│ ---      ┆ ---     │\n",
       "│ f64      ┆ i64     │\n",
       "╞══════════╪═════════╡\n",
       "│ 872807.0 ┆ 741526  │\n",
       "│ 50898.0  ┆ 529504  │\n",
       "│ 964276.0 ┆ 952420  │\n",
       "│ 212529.0 ┆ 811887  │\n",
       "│ 553626.0 ┆ 901428  │\n",
       "└──────────┴─────────┘"
      ]
     },
     "execution_count": 33,
     "metadata": {},
     "output_type": "execute_result"
    }
   ],
   "source": [
    "df.select(pl.col('dlbytes'), pl.col('ulbytes')).head(5)"
   ]
  },
  {
   "cell_type": "code",
   "execution_count": 34,
   "id": "bd20333d",
   "metadata": {},
   "outputs": [
    {
     "data": {
      "text/html": [
       "<div><style>\n",
       ".dataframe > thead > tr > th,\n",
       ".dataframe > tbody > tr > td {\n",
       "  text-align: right;\n",
       "}\n",
       "</style>\n",
       "<small>shape: (5, 12)</small><table border=\"1\" class=\"dataframe\"><thead><tr><th>date_time</th><th>userid</th><th>domain</th><th>dlbytes</th><th>ulbytes</th><th>clientip</th><th>serverip</th><th>country</th><th>txn_time</th><th>http_method</th><th>user_agent</th><th>platform</th></tr><tr><td>str</td><td>str</td><td>str</td><td>f64</td><td>i64</td><td>str</td><td>str</td><td>str</td><td>f64</td><td>str</td><td>str</td><td>str</td></tr></thead><tbody><tr><td>&quot;2023-10-04 11:…</td><td>&quot;7773153683656&quot;</td><td>&quot;ryan-wells.co.…</td><td>872807.0</td><td>741526</td><td>&quot;142.132.219.11…</td><td>&quot;62.42.184.180&quot;</td><td>&quot;England&quot;</td><td>2.33</td><td>&quot;HTTPS&quot;</td><td>&quot;Mozilla/5.0 (W…</td><td>&quot;Android&quot;</td></tr><tr><td>&quot;2023-10-04 12:…</td><td>&quot;1886351675683&quot;</td><td>&quot;hopkins.org&quot;</td><td>50898.0</td><td>529504</td><td>&quot;184.205.48.78&quot;</td><td>&quot;152.123.41.39&quot;</td><td>&quot;Wales&quot;</td><td>1.2</td><td>&quot;HTTP&quot;</td><td>&quot;Mozilla/5.0 (W…</td><td>&quot;Android&quot;</td></tr><tr><td>&quot;2023-10-02 23:…</td><td>&quot;1597721345356&quot;</td><td>&quot;evans.com&quot;</td><td>964276.0</td><td>952420</td><td>&quot;189.30.60.163&quot;</td><td>&quot;68.171.236.18&quot;</td><td>&quot;Scotland&quot;</td><td>1.32</td><td>&quot;HTTP&quot;</td><td>&quot;Mozilla/5.0 (W…</td><td>&quot;Linux&quot;</td></tr><tr><td>&quot;2023-10-03 09:…</td><td>&quot;9766845800247&quot;</td><td>&quot;kelly.com&quot;</td><td>212529.0</td><td>811887</td><td>&quot;13.144.79.35&quot;</td><td>&quot;63.141.80.109&quot;</td><td>&quot;England&quot;</td><td>2.58</td><td>&quot;HTTPS&quot;</td><td>&quot;Opera/8.54.(X1…</td><td>&quot;Android&quot;</td></tr><tr><td>&quot;2023-10-01 08:…</td><td>&quot;1546762097287&quot;</td><td>&quot;richardson-wal…</td><td>553626.0</td><td>901428</td><td>&quot;143.74.163.248…</td><td>&quot;26.253.17.223&quot;</td><td>&quot;Wales&quot;</td><td>1.53</td><td>&quot;HTTP&quot;</td><td>&quot;Mozilla/5.0 (M…</td><td>&quot;Windows&quot;</td></tr></tbody></table></div>"
      ],
      "text/plain": [
       "shape: (5, 12)\n",
       "┌────────────┬────────────┬────────────┬──────────┬───┬──────────┬───────────┬──────────┬──────────┐\n",
       "│ date_time  ┆ userid     ┆ domain     ┆ dlbytes  ┆ … ┆ txn_time ┆ http_meth ┆ user_age ┆ platform │\n",
       "│ ---        ┆ ---        ┆ ---        ┆ ---      ┆   ┆ ---      ┆ od        ┆ nt       ┆ ---      │\n",
       "│ str        ┆ str        ┆ str        ┆ f64      ┆   ┆ f64      ┆ ---       ┆ ---      ┆ str      │\n",
       "│            ┆            ┆            ┆          ┆   ┆          ┆ str       ┆ str      ┆          │\n",
       "╞════════════╪════════════╪════════════╪══════════╪═══╪══════════╪═══════════╪══════════╪══════════╡\n",
       "│ 2023-10-04 ┆ 7773153683 ┆ ryan-wells ┆ 872807.0 ┆ … ┆ 2.33     ┆ HTTPS     ┆ Mozilla/ ┆ Android  │\n",
       "│ 11:37:11   ┆ 656        ┆ .co.uk     ┆          ┆   ┆          ┆           ┆ 5.0 (Win ┆          │\n",
       "│            ┆            ┆            ┆          ┆   ┆          ┆           ┆ dows; U; ┆          │\n",
       "│            ┆            ┆            ┆          ┆   ┆          ┆           ┆ Windows… ┆          │\n",
       "│ 2023-10-04 ┆ 1886351675 ┆ hopkins.or ┆ 50898.0  ┆ … ┆ 1.2      ┆ HTTP      ┆ Mozilla/ ┆ Android  │\n",
       "│ 12:17:07   ┆ 683        ┆ g          ┆          ┆   ┆          ┆           ┆ 5.0 (Win ┆          │\n",
       "│            ┆            ┆            ┆          ┆   ┆          ┆           ┆ dows; U; ┆          │\n",
       "│            ┆            ┆            ┆          ┆   ┆          ┆           ┆ Windows… ┆          │\n",
       "│ 2023-10-02 ┆ 1597721345 ┆ evans.com  ┆ 964276.0 ┆ … ┆ 1.32     ┆ HTTP      ┆ Mozilla/ ┆ Linux    │\n",
       "│ 23:25:12   ┆ 356        ┆            ┆          ┆   ┆          ┆           ┆ 5.0      ┆          │\n",
       "│            ┆            ┆            ┆          ┆   ┆          ┆           ┆ (Windows ┆          │\n",
       "│            ┆            ┆            ┆          ┆   ┆          ┆           ┆ 98; Win  ┆          │\n",
       "│            ┆            ┆            ┆          ┆   ┆          ┆           ┆ 9x …     ┆          │\n",
       "│ 2023-10-03 ┆ 9766845800 ┆ kelly.com  ┆ 212529.0 ┆ … ┆ 2.58     ┆ HTTPS     ┆ Opera/8. ┆ Android  │\n",
       "│ 09:43:11   ┆ 247        ┆            ┆          ┆   ┆          ┆           ┆ 54.(X11; ┆          │\n",
       "│            ┆            ┆            ┆          ┆   ┆          ┆           ┆ Linux    ┆          │\n",
       "│            ┆            ┆            ┆          ┆   ┆          ┆           ┆ i686;    ┆          │\n",
       "│            ┆            ┆            ┆          ┆   ┆          ┆           ┆ ve-…     ┆          │\n",
       "│ 2023-10-01 ┆ 1546762097 ┆ richardson ┆ 553626.0 ┆ … ┆ 1.53     ┆ HTTP      ┆ Mozilla/ ┆ Windows  │\n",
       "│ 08:16:46   ┆ 287        ┆ -walker.bi ┆          ┆   ┆          ┆           ┆ 5.0 (Mac ┆          │\n",
       "│            ┆            ┆ z          ┆          ┆   ┆          ┆           ┆ intosh;  ┆          │\n",
       "│            ┆            ┆            ┆          ┆   ┆          ┆           ┆ Intel    ┆          │\n",
       "│            ┆            ┆            ┆          ┆   ┆          ┆           ┆ Ma…      ┆          │\n",
       "└────────────┴────────────┴────────────┴──────────┴───┴──────────┴───────────┴──────────┴──────────┘"
      ]
     },
     "execution_count": 34,
     "metadata": {},
     "output_type": "execute_result"
    }
   ],
   "source": [
    "df.select(pl.all()).head(5)"
   ]
  },
  {
   "cell_type": "code",
   "execution_count": 36,
   "id": "08547848",
   "metadata": {},
   "outputs": [
    {
     "data": {
      "text/html": [
       "<div><style>\n",
       ".dataframe > thead > tr > th,\n",
       ".dataframe > tbody > tr > td {\n",
       "  text-align: right;\n",
       "}\n",
       "</style>\n",
       "<small>shape: (6, 2)</small><table border=\"1\" class=\"dataframe\"><thead><tr><th>dlbytes</th><th>calculated</th></tr><tr><td>f64</td><td>f64</td></tr></thead><tbody><tr><td>872807.0</td><td>4.364035e6</td></tr><tr><td>50898.0</td><td>254490.0</td></tr><tr><td>964276.0</td><td>4.82138e6</td></tr><tr><td>212529.0</td><td>1.062645e6</td></tr><tr><td>553626.0</td><td>2.76813e6</td></tr><tr><td>43595.0</td><td>217975.0</td></tr></tbody></table></div>"
      ],
      "text/plain": [
       "shape: (6, 2)\n",
       "┌──────────┬────────────┐\n",
       "│ dlbytes  ┆ calculated │\n",
       "│ ---      ┆ ---        │\n",
       "│ f64      ┆ f64        │\n",
       "╞══════════╪════════════╡\n",
       "│ 872807.0 ┆ 4.364035e6 │\n",
       "│ 50898.0  ┆ 254490.0   │\n",
       "│ 964276.0 ┆ 4.82138e6  │\n",
       "│ 212529.0 ┆ 1.062645e6 │\n",
       "│ 553626.0 ┆ 2.76813e6  │\n",
       "│ 43595.0  ┆ 217975.0   │\n",
       "└──────────┴────────────┘"
      ]
     },
     "execution_count": 36,
     "metadata": {},
     "output_type": "execute_result"
    }
   ],
   "source": [
    "df.select(pl.col('dlbytes'),\n",
    "         ((pl.col('dlbytes')*5).alias('calculated'))\n",
    ").head(6)"
   ]
  },
  {
   "cell_type": "code",
   "execution_count": 42,
   "id": "a67ab975",
   "metadata": {},
   "outputs": [
    {
     "data": {
      "text/html": [
       "<div><style>\n",
       ".dataframe > thead > tr > th,\n",
       ".dataframe > tbody > tr > td {\n",
       "  text-align: right;\n",
       "}\n",
       "</style>\n",
       "<small>shape: (6, 3)</small><table border=\"1\" class=\"dataframe\"><thead><tr><th>dlbytes</th><th>calculated_dlbytes</th><th>calculated_ulbytes</th></tr><tr><td>f64</td><td>f64</td><td>i64</td></tr></thead><tbody><tr><td>872807.0</td><td>4.364035e6</td><td>3707630</td></tr><tr><td>50898.0</td><td>254490.0</td><td>2647520</td></tr><tr><td>964276.0</td><td>4.82138e6</td><td>4762100</td></tr><tr><td>212529.0</td><td>1.062645e6</td><td>4059435</td></tr><tr><td>553626.0</td><td>2.76813e6</td><td>4507140</td></tr><tr><td>43595.0</td><td>217975.0</td><td>387985</td></tr></tbody></table></div>"
      ],
      "text/plain": [
       "shape: (6, 3)\n",
       "┌──────────┬────────────────────┬────────────────────┐\n",
       "│ dlbytes  ┆ calculated_dlbytes ┆ calculated_ulbytes │\n",
       "│ ---      ┆ ---                ┆ ---                │\n",
       "│ f64      ┆ f64                ┆ i64                │\n",
       "╞══════════╪════════════════════╪════════════════════╡\n",
       "│ 872807.0 ┆ 4.364035e6         ┆ 3707630            │\n",
       "│ 50898.0  ┆ 254490.0           ┆ 2647520            │\n",
       "│ 964276.0 ┆ 4.82138e6          ┆ 4762100            │\n",
       "│ 212529.0 ┆ 1.062645e6         ┆ 4059435            │\n",
       "│ 553626.0 ┆ 2.76813e6          ┆ 4507140            │\n",
       "│ 43595.0  ┆ 217975.0           ┆ 387985             │\n",
       "└──────────┴────────────────────┴────────────────────┘"
      ]
     },
     "execution_count": 42,
     "metadata": {},
     "output_type": "execute_result"
    }
   ],
   "source": [
    "df.select(pl.col('dlbytes'),\n",
    "         ((pl.col('dlbytes')*5).alias('calculated_dlbytes')),\n",
    "          ((pl.col('ulbytes')*5).alias('calculated_ulbytes'))\n",
    "         ).head(6)"
   ]
  },
  {
   "cell_type": "code",
   "execution_count": 45,
   "id": "1b5abebc",
   "metadata": {},
   "outputs": [
    {
     "data": {
      "text/html": [
       "<div><style>\n",
       ".dataframe > thead > tr > th,\n",
       ".dataframe > tbody > tr > td {\n",
       "  text-align: right;\n",
       "}\n",
       "</style>\n",
       "<small>shape: (6, 3)</small><table border=\"1\" class=\"dataframe\"><thead><tr><th>dlbytes</th><th>calculated_dlbytes</th><th>calculated_ulbytes</th></tr><tr><td>f64</td><td>f64</td><td>f64</td></tr></thead><tbody><tr><td>872807.0</td><td>4.364035e6</td><td>130092.281</td></tr><tr><td>50898.0</td><td>254490.0</td><td>92895.439</td></tr><tr><td>964276.0</td><td>4.82138e6</td><td>167091.228</td></tr><tr><td>212529.0</td><td>1.062645e6</td><td>142436.316</td></tr><tr><td>553626.0</td><td>2.76813e6</td><td>158145.263</td></tr><tr><td>43595.0</td><td>217975.0</td><td>13613.509</td></tr></tbody></table></div>"
      ],
      "text/plain": [
       "shape: (6, 3)\n",
       "┌──────────┬────────────────────┬────────────────────┐\n",
       "│ dlbytes  ┆ calculated_dlbytes ┆ calculated_ulbytes │\n",
       "│ ---      ┆ ---                ┆ ---                │\n",
       "│ f64      ┆ f64                ┆ f64                │\n",
       "╞══════════╪════════════════════╪════════════════════╡\n",
       "│ 872807.0 ┆ 4.364035e6         ┆ 130092.281         │\n",
       "│ 50898.0  ┆ 254490.0           ┆ 92895.439          │\n",
       "│ 964276.0 ┆ 4.82138e6          ┆ 167091.228         │\n",
       "│ 212529.0 ┆ 1.062645e6         ┆ 142436.316         │\n",
       "│ 553626.0 ┆ 2.76813e6          ┆ 158145.263         │\n",
       "│ 43595.0  ┆ 217975.0           ┆ 13613.509          │\n",
       "└──────────┴────────────────────┴────────────────────┘"
      ]
     },
     "execution_count": 45,
     "metadata": {},
     "output_type": "execute_result"
    }
   ],
   "source": [
    "df.select(pl.col('dlbytes'),\n",
    "         ((pl.col('dlbytes')*5).alias('calculated_dlbytes')),\n",
    "          ((pl.col('ulbytes')/5.7).cast(pl.Float64).round(3).alias('calculated_ulbytes'))\n",
    "         ).head(6)"
   ]
  },
  {
   "cell_type": "code",
   "execution_count": 46,
   "id": "c7f929ff",
   "metadata": {},
   "outputs": [
    {
     "data": {
      "text/html": [
       "<div><style>\n",
       ".dataframe > thead > tr > th,\n",
       ".dataframe > tbody > tr > td {\n",
       "  text-align: right;\n",
       "}\n",
       "</style>\n",
       "<small>shape: (5, 2)</small><table border=\"1\" class=\"dataframe\"><thead><tr><th>dlbytes</th><th>when_statement_test</th></tr><tr><td>f64</td><td>str</td></tr></thead><tbody><tr><td>872807.0</td><td>&quot;large&quot;</td></tr><tr><td>50898.0</td><td>&quot;small&quot;</td></tr><tr><td>964276.0</td><td>&quot;large&quot;</td></tr><tr><td>212529.0</td><td>&quot;small&quot;</td></tr><tr><td>553626.0</td><td>&quot;large&quot;</td></tr></tbody></table></div>"
      ],
      "text/plain": [
       "shape: (5, 2)\n",
       "┌──────────┬─────────────────────┐\n",
       "│ dlbytes  ┆ when_statement_test │\n",
       "│ ---      ┆ ---                 │\n",
       "│ f64      ┆ str                 │\n",
       "╞══════════╪═════════════════════╡\n",
       "│ 872807.0 ┆ large               │\n",
       "│ 50898.0  ┆ small               │\n",
       "│ 964276.0 ┆ large               │\n",
       "│ 212529.0 ┆ small               │\n",
       "│ 553626.0 ┆ large               │\n",
       "└──────────┴─────────────────────┘"
      ]
     },
     "execution_count": 46,
     "metadata": {},
     "output_type": "execute_result"
    }
   ],
   "source": [
    "df.select(\n",
    "    pl.col('dlbytes'),\n",
    "    pl.when(pl.col('dlbytes') > 500000)\n",
    "    .then(pl.lit('large'))\n",
    "    .otherwise(pl.lit('small'))\n",
    "    .alias('when_statement_test')\n",
    ").head(5)"
   ]
  },
  {
   "cell_type": "code",
   "execution_count": 47,
   "id": "2385d142",
   "metadata": {},
   "outputs": [
    {
     "data": {
      "text/html": [
       "<div><style>\n",
       ".dataframe > thead > tr > th,\n",
       ".dataframe > tbody > tr > td {\n",
       "  text-align: right;\n",
       "}\n",
       "</style>\n",
       "<small>shape: (6, 2)</small><table border=\"1\" class=\"dataframe\"><thead><tr><th>country</th><th>is_it_England</th></tr><tr><td>str</td><td>bool</td></tr></thead><tbody><tr><td>&quot;England&quot;</td><td>true</td></tr><tr><td>&quot;Wales&quot;</td><td>false</td></tr><tr><td>&quot;Scotland&quot;</td><td>false</td></tr><tr><td>&quot;England&quot;</td><td>true</td></tr><tr><td>&quot;Wales&quot;</td><td>false</td></tr><tr><td>&quot;England&quot;</td><td>true</td></tr></tbody></table></div>"
      ],
      "text/plain": [
       "shape: (6, 2)\n",
       "┌──────────┬───────────────┐\n",
       "│ country  ┆ is_it_England │\n",
       "│ ---      ┆ ---           │\n",
       "│ str      ┆ bool          │\n",
       "╞══════════╪═══════════════╡\n",
       "│ England  ┆ true          │\n",
       "│ Wales    ┆ false         │\n",
       "│ Scotland ┆ false         │\n",
       "│ England  ┆ true          │\n",
       "│ Wales    ┆ false         │\n",
       "│ England  ┆ true          │\n",
       "└──────────┴───────────────┘"
      ]
     },
     "execution_count": 47,
     "metadata": {},
     "output_type": "execute_result"
    }
   ],
   "source": [
    "df.select(\n",
    "    pl.col('country'),\n",
    "    pl.when(pl.col('country') == 'England')\n",
    "    .then(pl.lit(True))\n",
    "    .otherwise(pl.lit(False))\n",
    "    .alias('is_it_England')\n",
    ").head(6)"
   ]
  },
  {
   "cell_type": "code",
   "execution_count": 48,
   "id": "562f516a",
   "metadata": {},
   "outputs": [
    {
     "data": {
      "text/html": [
       "<div><style>\n",
       ".dataframe > thead > tr > th,\n",
       ".dataframe > tbody > tr > td {\n",
       "  text-align: right;\n",
       "}\n",
       "</style>\n",
       "<small>shape: (6, 2)</small><table border=\"1\" class=\"dataframe\"><thead><tr><th>country</th><th>is_it_England</th></tr><tr><td>str</td><td>bool</td></tr></thead><tbody><tr><td>&quot;England&quot;</td><td>true</td></tr><tr><td>&quot;Wales&quot;</td><td>true</td></tr><tr><td>&quot;Scotland&quot;</td><td>false</td></tr><tr><td>&quot;England&quot;</td><td>true</td></tr><tr><td>&quot;Wales&quot;</td><td>true</td></tr><tr><td>&quot;England&quot;</td><td>true</td></tr></tbody></table></div>"
      ],
      "text/plain": [
       "shape: (6, 2)\n",
       "┌──────────┬───────────────┐\n",
       "│ country  ┆ is_it_England │\n",
       "│ ---      ┆ ---           │\n",
       "│ str      ┆ bool          │\n",
       "╞══════════╪═══════════════╡\n",
       "│ England  ┆ true          │\n",
       "│ Wales    ┆ true          │\n",
       "│ Scotland ┆ false         │\n",
       "│ England  ┆ true          │\n",
       "│ Wales    ┆ true          │\n",
       "│ England  ┆ true          │\n",
       "└──────────┴───────────────┘"
      ]
     },
     "execution_count": 48,
     "metadata": {},
     "output_type": "execute_result"
    }
   ],
   "source": [
    "countries = ['England', 'Wales']\n",
    "\n",
    "df.select(\n",
    "    pl.col('country'),\n",
    "    pl.when(pl.col('country').is_in(countries))\n",
    "    .then(pl.lit(True))\n",
    "    .otherwise(pl.lit(False))\n",
    "    .alias('is_it_England')\n",
    ").head(6)\n"
   ]
  },
  {
   "cell_type": "code",
   "execution_count": null,
   "id": "dfc02633",
   "metadata": {},
   "outputs": [],
   "source": []
  }
 ],
 "metadata": {
  "kernelspec": {
   "display_name": "Python 3 (ipykernel)",
   "language": "python",
   "name": "python3"
  },
  "language_info": {
   "codemirror_mode": {
    "name": "ipython",
    "version": 3
   },
   "file_extension": ".py",
   "mimetype": "text/x-python",
   "name": "python",
   "nbconvert_exporter": "python",
   "pygments_lexer": "ipython3",
   "version": "3.9.12"
  }
 },
 "nbformat": 4,
 "nbformat_minor": 5
}
