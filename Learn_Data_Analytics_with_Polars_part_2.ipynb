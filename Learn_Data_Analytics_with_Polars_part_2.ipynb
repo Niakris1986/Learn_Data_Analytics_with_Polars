{
 "cells": [
  {
   "cell_type": "code",
   "execution_count": 1,
   "id": "76decf9b",
   "metadata": {},
   "outputs": [],
   "source": [
    "import polars as pl"
   ]
  },
  {
   "cell_type": "code",
   "execution_count": 2,
   "id": "eda753c2",
   "metadata": {},
   "outputs": [],
   "source": [
    "df = pl.read_csv(\"C:/Users/user/Downloads/course_file.csv\", has_header=True)"
   ]
  },
  {
   "cell_type": "code",
   "execution_count": 3,
   "id": "063a9d78",
   "metadata": {},
   "outputs": [],
   "source": [
    "custom_schema = {\n",
    "    'date_time': pl.Utf8,\n",
    "    'userid': pl.Utf8,\n",
    "    'dlbytes': pl.Int64,\n",
    "    'ulbytes': pl.Int64,\n",
    "    'clientip': pl.Utf8,\n",
    "    'serverip': pl.Utf8,\n",
    "    'country': pl.Utf8,\n",
    "    'txn_time': pl.Float64,\n",
    "    'http_method': pl.Utf8,\n",
    "    'user_agent': pl.Utf8,\n",
    "    'platform': pl.Utf8\n",
    "}"
   ]
  },
  {
   "cell_type": "code",
   "execution_count": 4,
   "id": "5fb89ba6",
   "metadata": {},
   "outputs": [],
   "source": [
    "df = pl.read_csv(\"C:/Users/user/Downloads/course_file.csv\", has_header=True, dtypes=custom_schema)"
   ]
  },
  {
   "cell_type": "code",
   "execution_count": 5,
   "id": "ab1db4b1",
   "metadata": {},
   "outputs": [
    {
     "data": {
      "text/html": [
       "<div><style>\n",
       ".dataframe > thead > tr > th,\n",
       ".dataframe > tbody > tr > td {\n",
       "  text-align: right;\n",
       "}\n",
       "</style>\n",
       "<small>shape: (5, 3)</small><table border=\"1\" class=\"dataframe\"><thead><tr><th>platform</th><th>dlbytes</th><th>platform_when</th></tr><tr><td>str</td><td>i64</td><td>i32</td></tr></thead><tbody><tr><td>&quot;Android&quot;</td><td>872807</td><td>1</td></tr><tr><td>&quot;Android&quot;</td><td>50898</td><td>1</td></tr><tr><td>&quot;Linux&quot;</td><td>964276</td><td>1</td></tr><tr><td>&quot;Android&quot;</td><td>212529</td><td>1</td></tr><tr><td>&quot;Windows&quot;</td><td>553626</td><td>0</td></tr></tbody></table></div>"
      ],
      "text/plain": [
       "shape: (5, 3)\n",
       "┌──────────┬─────────┬───────────────┐\n",
       "│ platform ┆ dlbytes ┆ platform_when │\n",
       "│ ---      ┆ ---     ┆ ---           │\n",
       "│ str      ┆ i64     ┆ i32           │\n",
       "╞══════════╪═════════╪═══════════════╡\n",
       "│ Android  ┆ 872807  ┆ 1             │\n",
       "│ Android  ┆ 50898   ┆ 1             │\n",
       "│ Linux    ┆ 964276  ┆ 1             │\n",
       "│ Android  ┆ 212529  ┆ 1             │\n",
       "│ Windows  ┆ 553626  ┆ 0             │\n",
       "└──────────┴─────────┴───────────────┘"
      ]
     },
     "execution_count": 5,
     "metadata": {},
     "output_type": "execute_result"
    }
   ],
   "source": [
    "platforms = ['Android', 'Linux']\n",
    "\n",
    "df.select(\n",
    "    pl.col('platform'), pl.col('dlbytes'),\n",
    "    pl.when((pl.col('platform').is_in(platforms)) & (pl.col('dlbytes') > 5000))\n",
    "    .then(pl.lit(1))\n",
    "    .otherwise(pl.lit(0))\n",
    "    .alias('platform_when')\n",
    ").head(5)"
   ]
  },
  {
   "cell_type": "code",
   "execution_count": 6,
   "id": "75940505",
   "metadata": {},
   "outputs": [
    {
     "data": {
      "text/html": [
       "<div><style>\n",
       ".dataframe > thead > tr > th,\n",
       ".dataframe > tbody > tr > td {\n",
       "  text-align: right;\n",
       "}\n",
       "</style>\n",
       "<small>shape: (5, 3)</small><table border=\"1\" class=\"dataframe\"><thead><tr><th>ulbytes</th><th>dlbytes</th><th>transaction_size</th></tr><tr><td>i64</td><td>i64</td><td>str</td></tr></thead><tbody><tr><td>741526</td><td>872807</td><td>&quot;large&quot;</td></tr><tr><td>529504</td><td>50898</td><td>&quot;small&quot;</td></tr><tr><td>952420</td><td>964276</td><td>&quot;large&quot;</td></tr><tr><td>811887</td><td>212529</td><td>&quot;small&quot;</td></tr><tr><td>901428</td><td>553626</td><td>&quot;large&quot;</td></tr></tbody></table></div>"
      ],
      "text/plain": [
       "shape: (5, 3)\n",
       "┌─────────┬─────────┬──────────────────┐\n",
       "│ ulbytes ┆ dlbytes ┆ transaction_size │\n",
       "│ ---     ┆ ---     ┆ ---              │\n",
       "│ i64     ┆ i64     ┆ str              │\n",
       "╞═════════╪═════════╪══════════════════╡\n",
       "│ 741526  ┆ 872807  ┆ large            │\n",
       "│ 529504  ┆ 50898   ┆ small            │\n",
       "│ 952420  ┆ 964276  ┆ large            │\n",
       "│ 811887  ┆ 212529  ┆ small            │\n",
       "│ 901428  ┆ 553626  ┆ large            │\n",
       "└─────────┴─────────┴──────────────────┘"
      ]
     },
     "execution_count": 6,
     "metadata": {},
     "output_type": "execute_result"
    }
   ],
   "source": [
    "df.select(\n",
    "    pl.col('ulbytes'), pl.col('dlbytes'),\n",
    "    pl.when((pl.col('ulbytes') > 500000) & (pl.col('dlbytes') > 500000))\n",
    "    .then(pl.lit('large'))\\\n",
    "    .when((pl.col('ulbytes') > 250000) & (pl.col('dlbytes') > 250000))\n",
    "    .then(pl.lit('medium'))\\\n",
    "    .otherwise(pl.lit('small'))\\\n",
    "    .alias('transaction_size')\n",
    ").head(5)"
   ]
  },
  {
   "cell_type": "code",
   "execution_count": 7,
   "id": "bdc361a5",
   "metadata": {},
   "outputs": [
    {
     "data": {
      "text/html": [
       "<div><style>\n",
       ".dataframe > thead > tr > th,\n",
       ".dataframe > tbody > tr > td {\n",
       "  text-align: right;\n",
       "}\n",
       "</style>\n",
       "<small>shape: (5, 13)</small><table border=\"1\" class=\"dataframe\"><thead><tr><th>date_time</th><th>userid</th><th>domain</th><th>dlbytes</th><th>ulbytes</th><th>clientip</th><th>serverip</th><th>country</th><th>txn_time</th><th>http_method</th><th>user_agent</th><th>platform</th><th>total_bytes</th></tr><tr><td>str</td><td>str</td><td>str</td><td>i64</td><td>i64</td><td>str</td><td>str</td><td>str</td><td>f64</td><td>str</td><td>str</td><td>str</td><td>i64</td></tr></thead><tbody><tr><td>&quot;2023-10-04 11:…</td><td>&quot;7773153683656&quot;</td><td>&quot;ryan-wells.co.…</td><td>872807</td><td>741526</td><td>&quot;142.132.219.11…</td><td>&quot;62.42.184.180&quot;</td><td>&quot;England&quot;</td><td>2.33</td><td>&quot;HTTPS&quot;</td><td>&quot;Mozilla/5.0 (W…</td><td>&quot;Android&quot;</td><td>1614333</td></tr><tr><td>&quot;2023-10-04 12:…</td><td>&quot;1886351675683&quot;</td><td>&quot;hopkins.org&quot;</td><td>50898</td><td>529504</td><td>&quot;184.205.48.78&quot;</td><td>&quot;152.123.41.39&quot;</td><td>&quot;Wales&quot;</td><td>1.2</td><td>&quot;HTTP&quot;</td><td>&quot;Mozilla/5.0 (W…</td><td>&quot;Android&quot;</td><td>580402</td></tr><tr><td>&quot;2023-10-02 23:…</td><td>&quot;1597721345356&quot;</td><td>&quot;evans.com&quot;</td><td>964276</td><td>952420</td><td>&quot;189.30.60.163&quot;</td><td>&quot;68.171.236.18&quot;</td><td>&quot;Scotland&quot;</td><td>1.32</td><td>&quot;HTTP&quot;</td><td>&quot;Mozilla/5.0 (W…</td><td>&quot;Linux&quot;</td><td>1916696</td></tr><tr><td>&quot;2023-10-03 09:…</td><td>&quot;9766845800247&quot;</td><td>&quot;kelly.com&quot;</td><td>212529</td><td>811887</td><td>&quot;13.144.79.35&quot;</td><td>&quot;63.141.80.109&quot;</td><td>&quot;England&quot;</td><td>2.58</td><td>&quot;HTTPS&quot;</td><td>&quot;Opera/8.54.(X1…</td><td>&quot;Android&quot;</td><td>1024416</td></tr><tr><td>&quot;2023-10-01 08:…</td><td>&quot;1546762097287&quot;</td><td>&quot;richardson-wal…</td><td>553626</td><td>901428</td><td>&quot;143.74.163.248…</td><td>&quot;26.253.17.223&quot;</td><td>&quot;Wales&quot;</td><td>1.53</td><td>&quot;HTTP&quot;</td><td>&quot;Mozilla/5.0 (M…</td><td>&quot;Windows&quot;</td><td>1455054</td></tr></tbody></table></div>"
      ],
      "text/plain": [
       "shape: (5, 13)\n",
       "┌────────────┬────────────┬────────────┬─────────┬───┬───────────┬──────────┬──────────┬───────────┐\n",
       "│ date_time  ┆ userid     ┆ domain     ┆ dlbytes ┆ … ┆ http_meth ┆ user_age ┆ platform ┆ total_byt │\n",
       "│ ---        ┆ ---        ┆ ---        ┆ ---     ┆   ┆ od        ┆ nt       ┆ ---      ┆ es        │\n",
       "│ str        ┆ str        ┆ str        ┆ i64     ┆   ┆ ---       ┆ ---      ┆ str      ┆ ---       │\n",
       "│            ┆            ┆            ┆         ┆   ┆ str       ┆ str      ┆          ┆ i64       │\n",
       "╞════════════╪════════════╪════════════╪═════════╪═══╪═══════════╪══════════╪══════════╪═══════════╡\n",
       "│ 2023-10-04 ┆ 7773153683 ┆ ryan-wells ┆ 872807  ┆ … ┆ HTTPS     ┆ Mozilla/ ┆ Android  ┆ 1614333   │\n",
       "│ 11:37:11   ┆ 656        ┆ .co.uk     ┆         ┆   ┆           ┆ 5.0 (Win ┆          ┆           │\n",
       "│            ┆            ┆            ┆         ┆   ┆           ┆ dows; U; ┆          ┆           │\n",
       "│            ┆            ┆            ┆         ┆   ┆           ┆ Windows… ┆          ┆           │\n",
       "│ 2023-10-04 ┆ 1886351675 ┆ hopkins.or ┆ 50898   ┆ … ┆ HTTP      ┆ Mozilla/ ┆ Android  ┆ 580402    │\n",
       "│ 12:17:07   ┆ 683        ┆ g          ┆         ┆   ┆           ┆ 5.0 (Win ┆          ┆           │\n",
       "│            ┆            ┆            ┆         ┆   ┆           ┆ dows; U; ┆          ┆           │\n",
       "│            ┆            ┆            ┆         ┆   ┆           ┆ Windows… ┆          ┆           │\n",
       "│ 2023-10-02 ┆ 1597721345 ┆ evans.com  ┆ 964276  ┆ … ┆ HTTP      ┆ Mozilla/ ┆ Linux    ┆ 1916696   │\n",
       "│ 23:25:12   ┆ 356        ┆            ┆         ┆   ┆           ┆ 5.0      ┆          ┆           │\n",
       "│            ┆            ┆            ┆         ┆   ┆           ┆ (Windows ┆          ┆           │\n",
       "│            ┆            ┆            ┆         ┆   ┆           ┆ 98; Win  ┆          ┆           │\n",
       "│            ┆            ┆            ┆         ┆   ┆           ┆ 9x …     ┆          ┆           │\n",
       "│ 2023-10-03 ┆ 9766845800 ┆ kelly.com  ┆ 212529  ┆ … ┆ HTTPS     ┆ Opera/8. ┆ Android  ┆ 1024416   │\n",
       "│ 09:43:11   ┆ 247        ┆            ┆         ┆   ┆           ┆ 54.(X11; ┆          ┆           │\n",
       "│            ┆            ┆            ┆         ┆   ┆           ┆ Linux    ┆          ┆           │\n",
       "│            ┆            ┆            ┆         ┆   ┆           ┆ i686;    ┆          ┆           │\n",
       "│            ┆            ┆            ┆         ┆   ┆           ┆ ve-…     ┆          ┆           │\n",
       "│ 2023-10-01 ┆ 1546762097 ┆ richardson ┆ 553626  ┆ … ┆ HTTP      ┆ Mozilla/ ┆ Windows  ┆ 1455054   │\n",
       "│ 08:16:46   ┆ 287        ┆ -walker.bi ┆         ┆   ┆           ┆ 5.0 (Mac ┆          ┆           │\n",
       "│            ┆            ┆ z          ┆         ┆   ┆           ┆ intosh;  ┆          ┆           │\n",
       "│            ┆            ┆            ┆         ┆   ┆           ┆ Intel    ┆          ┆           │\n",
       "│            ┆            ┆            ┆         ┆   ┆           ┆ Ma…      ┆          ┆           │\n",
       "└────────────┴────────────┴────────────┴─────────┴───┴───────────┴──────────┴──────────┴───────────┘"
      ]
     },
     "execution_count": 7,
     "metadata": {},
     "output_type": "execute_result"
    }
   ],
   "source": [
    "def calculate_bytes(row):\n",
    "    try:\n",
    "        dlbytes = int(row[3])\n",
    "        ulbytes = int(row[4])\n",
    "        return dlbytes + ulbytes\n",
    "    except:\n",
    "        return 1\n",
    "\n",
    "df.with_columns(df.apply(calculate_bytes, return_dtype=pl.Int64)).rename({'apply': 'total_bytes'}).head(5)"
   ]
  },
  {
   "cell_type": "code",
   "execution_count": 8,
   "id": "cde1f491",
   "metadata": {},
   "outputs": [
    {
     "data": {
      "text/html": [
       "<div><style>\n",
       ".dataframe > thead > tr > th,\n",
       ".dataframe > tbody > tr > td {\n",
       "  text-align: right;\n",
       "}\n",
       "</style>\n",
       "<small>shape: (5, 13)</small><table border=\"1\" class=\"dataframe\"><thead><tr><th>date_time</th><th>userid</th><th>domain</th><th>dlbytes</th><th>ulbytes</th><th>clientip</th><th>serverip</th><th>country</th><th>txn_time</th><th>http_method</th><th>user_agent</th><th>platform</th><th>txnMilliseconds</th></tr><tr><td>str</td><td>str</td><td>str</td><td>i64</td><td>i64</td><td>str</td><td>str</td><td>str</td><td>f64</td><td>str</td><td>str</td><td>str</td><td>f64</td></tr></thead><tbody><tr><td>&quot;2023-10-04 11:…</td><td>&quot;7773153683656&quot;</td><td>&quot;ryan-wells.co.…</td><td>872807</td><td>741526</td><td>&quot;142.132.219.11…</td><td>&quot;62.42.184.180&quot;</td><td>&quot;England&quot;</td><td>2.33</td><td>&quot;HTTPS&quot;</td><td>&quot;Mozilla/5.0 (W…</td><td>&quot;Android&quot;</td><td>2330.0</td></tr><tr><td>&quot;2023-10-04 12:…</td><td>&quot;1886351675683&quot;</td><td>&quot;hopkins.org&quot;</td><td>50898</td><td>529504</td><td>&quot;184.205.48.78&quot;</td><td>&quot;152.123.41.39&quot;</td><td>&quot;Wales&quot;</td><td>1.2</td><td>&quot;HTTP&quot;</td><td>&quot;Mozilla/5.0 (W…</td><td>&quot;Android&quot;</td><td>1200.0</td></tr><tr><td>&quot;2023-10-02 23:…</td><td>&quot;1597721345356&quot;</td><td>&quot;evans.com&quot;</td><td>964276</td><td>952420</td><td>&quot;189.30.60.163&quot;</td><td>&quot;68.171.236.18&quot;</td><td>&quot;Scotland&quot;</td><td>1.32</td><td>&quot;HTTP&quot;</td><td>&quot;Mozilla/5.0 (W…</td><td>&quot;Linux&quot;</td><td>1320.0</td></tr><tr><td>&quot;2023-10-03 09:…</td><td>&quot;9766845800247&quot;</td><td>&quot;kelly.com&quot;</td><td>212529</td><td>811887</td><td>&quot;13.144.79.35&quot;</td><td>&quot;63.141.80.109&quot;</td><td>&quot;England&quot;</td><td>2.58</td><td>&quot;HTTPS&quot;</td><td>&quot;Opera/8.54.(X1…</td><td>&quot;Android&quot;</td><td>2580.0</td></tr><tr><td>&quot;2023-10-01 08:…</td><td>&quot;1546762097287&quot;</td><td>&quot;richardson-wal…</td><td>553626</td><td>901428</td><td>&quot;143.74.163.248…</td><td>&quot;26.253.17.223&quot;</td><td>&quot;Wales&quot;</td><td>1.53</td><td>&quot;HTTP&quot;</td><td>&quot;Mozilla/5.0 (M…</td><td>&quot;Windows&quot;</td><td>1530.0</td></tr></tbody></table></div>"
      ],
      "text/plain": [
       "shape: (5, 13)\n",
       "┌────────────┬────────────┬───────────┬─────────┬───┬───────────┬──────────┬──────────┬────────────┐\n",
       "│ date_time  ┆ userid     ┆ domain    ┆ dlbytes ┆ … ┆ http_meth ┆ user_age ┆ platform ┆ txnMillise │\n",
       "│ ---        ┆ ---        ┆ ---       ┆ ---     ┆   ┆ od        ┆ nt       ┆ ---      ┆ conds      │\n",
       "│ str        ┆ str        ┆ str       ┆ i64     ┆   ┆ ---       ┆ ---      ┆ str      ┆ ---        │\n",
       "│            ┆            ┆           ┆         ┆   ┆ str       ┆ str      ┆          ┆ f64        │\n",
       "╞════════════╪════════════╪═══════════╪═════════╪═══╪═══════════╪══════════╪══════════╪════════════╡\n",
       "│ 2023-10-04 ┆ 7773153683 ┆ ryan-well ┆ 872807  ┆ … ┆ HTTPS     ┆ Mozilla/ ┆ Android  ┆ 2330.0     │\n",
       "│ 11:37:11   ┆ 656        ┆ s.co.uk   ┆         ┆   ┆           ┆ 5.0 (Win ┆          ┆            │\n",
       "│            ┆            ┆           ┆         ┆   ┆           ┆ dows; U; ┆          ┆            │\n",
       "│            ┆            ┆           ┆         ┆   ┆           ┆ Windows… ┆          ┆            │\n",
       "│ 2023-10-04 ┆ 1886351675 ┆ hopkins.o ┆ 50898   ┆ … ┆ HTTP      ┆ Mozilla/ ┆ Android  ┆ 1200.0     │\n",
       "│ 12:17:07   ┆ 683        ┆ rg        ┆         ┆   ┆           ┆ 5.0 (Win ┆          ┆            │\n",
       "│            ┆            ┆           ┆         ┆   ┆           ┆ dows; U; ┆          ┆            │\n",
       "│            ┆            ┆           ┆         ┆   ┆           ┆ Windows… ┆          ┆            │\n",
       "│ 2023-10-02 ┆ 1597721345 ┆ evans.com ┆ 964276  ┆ … ┆ HTTP      ┆ Mozilla/ ┆ Linux    ┆ 1320.0     │\n",
       "│ 23:25:12   ┆ 356        ┆           ┆         ┆   ┆           ┆ 5.0      ┆          ┆            │\n",
       "│            ┆            ┆           ┆         ┆   ┆           ┆ (Windows ┆          ┆            │\n",
       "│            ┆            ┆           ┆         ┆   ┆           ┆ 98; Win  ┆          ┆            │\n",
       "│            ┆            ┆           ┆         ┆   ┆           ┆ 9x …     ┆          ┆            │\n",
       "│ 2023-10-03 ┆ 9766845800 ┆ kelly.com ┆ 212529  ┆ … ┆ HTTPS     ┆ Opera/8. ┆ Android  ┆ 2580.0     │\n",
       "│ 09:43:11   ┆ 247        ┆           ┆         ┆   ┆           ┆ 54.(X11; ┆          ┆            │\n",
       "│            ┆            ┆           ┆         ┆   ┆           ┆ Linux    ┆          ┆            │\n",
       "│            ┆            ┆           ┆         ┆   ┆           ┆ i686;    ┆          ┆            │\n",
       "│            ┆            ┆           ┆         ┆   ┆           ┆ ve-…     ┆          ┆            │\n",
       "│ 2023-10-01 ┆ 1546762097 ┆ richardso ┆ 553626  ┆ … ┆ HTTP      ┆ Mozilla/ ┆ Windows  ┆ 1530.0     │\n",
       "│ 08:16:46   ┆ 287        ┆ n-walker. ┆         ┆   ┆           ┆ 5.0 (Mac ┆          ┆            │\n",
       "│            ┆            ┆ biz       ┆         ┆   ┆           ┆ intosh;  ┆          ┆            │\n",
       "│            ┆            ┆           ┆         ┆   ┆           ┆ Intel    ┆          ┆            │\n",
       "│            ┆            ┆           ┆         ┆   ┆           ┆ Ma…      ┆          ┆            │\n",
       "└────────────┴────────────┴───────────┴─────────┴───┴───────────┴──────────┴──────────┴────────────┘"
      ]
     },
     "execution_count": 8,
     "metadata": {},
     "output_type": "execute_result"
    }
   ],
   "source": [
    "def makemilliseconds(row):\n",
    "    try:\n",
    "        txn_time = row[8]\n",
    "        milliseconds = txn_time * 1000\n",
    "        return milliseconds\n",
    "    except:\n",
    "        return 1\n",
    "    \n",
    "df.with_columns(df.apply(makemilliseconds, return_dtype=pl.Float64)).rename({'apply': 'txnMilliseconds'}).head(5)"
   ]
  },
  {
   "cell_type": "code",
   "execution_count": 9,
   "id": "bdd26da5",
   "metadata": {},
   "outputs": [
    {
     "data": {
      "text/html": [
       "<div><style>\n",
       ".dataframe > thead > tr > th,\n",
       ".dataframe > tbody > tr > td {\n",
       "  text-align: right;\n",
       "}\n",
       "</style>\n",
       "<small>shape: (1, 7)</small><table border=\"1\" class=\"dataframe\"><thead><tr><th>Total_DL_Bytes</th><th>Min_DL_Bytes</th><th>Max_DL_Bytes</th><th>STD_DL_Bytes</th><th>Median_DL_Bytes</th><th>Mean_DL_Bytes</th><th>First_DL_Bytes</th></tr><tr><td>i64</td><td>i64</td><td>i64</td><td>f64</td><td>f64</td><td>f64</td><td>i64</td></tr></thead><tbody><tr><td>49999358573</td><td>61</td><td>999994</td><td>288565.822961</td><td>499479.5</td><td>499993.58573</td><td>872807</td></tr></tbody></table></div>"
      ],
      "text/plain": [
       "shape: (1, 7)\n",
       "┌────────────┬────────────┬────────────┬──────────────┬──────────────┬──────────────┬──────────────┐\n",
       "│ Total_DL_B ┆ Min_DL_Byt ┆ Max_DL_Byt ┆ STD_DL_Bytes ┆ Median_DL_By ┆ Mean_DL_Byte ┆ First_DL_Byt │\n",
       "│ ytes       ┆ es         ┆ es         ┆ ---          ┆ tes          ┆ s            ┆ es           │\n",
       "│ ---        ┆ ---        ┆ ---        ┆ f64          ┆ ---          ┆ ---          ┆ ---          │\n",
       "│ i64        ┆ i64        ┆ i64        ┆              ┆ f64          ┆ f64          ┆ i64          │\n",
       "╞════════════╪════════════╪════════════╪══════════════╪══════════════╪══════════════╪══════════════╡\n",
       "│ 4999935857 ┆ 61         ┆ 999994     ┆ 288565.82296 ┆ 499479.5     ┆ 499993.58573 ┆ 872807       │\n",
       "│ 3          ┆            ┆            ┆ 1            ┆              ┆              ┆              │\n",
       "└────────────┴────────────┴────────────┴──────────────┴──────────────┴──────────────┴──────────────┘"
      ]
     },
     "execution_count": 9,
     "metadata": {},
     "output_type": "execute_result"
    }
   ],
   "source": [
    "df.select(\n",
    "    pl.sum('dlbytes').alias('Total_DL_Bytes'),\n",
    "    pl.min('dlbytes').alias('Min_DL_Bytes'),\n",
    "    pl.max('dlbytes').alias('Max_DL_Bytes'),\n",
    "    pl.std('dlbytes').alias('STD_DL_Bytes'),\n",
    "    pl.median('dlbytes').alias('Median_DL_Bytes'),\n",
    "    pl.mean('dlbytes').alias('Mean_DL_Bytes'),\n",
    "    pl.first('dlbytes').alias('First_DL_Bytes'),\n",
    ")"
   ]
  },
  {
   "cell_type": "code",
   "execution_count": 10,
   "id": "2aefb796",
   "metadata": {},
   "outputs": [
    {
     "data": {
      "text/html": [
       "<div><style>\n",
       ".dataframe > thead > tr > th,\n",
       ".dataframe > tbody > tr > td {\n",
       "  text-align: right;\n",
       "}\n",
       "</style>\n",
       "<small>shape: (4, 2)</small><table border=\"1\" class=\"dataframe\"><thead><tr><th>country</th><th>sum_dlbytes</th></tr><tr><td>str</td><td>i64</td></tr></thead><tbody><tr><td>&quot;Ireland&quot;</td><td>12496130770</td></tr><tr><td>&quot;England&quot;</td><td>12629527260</td></tr><tr><td>&quot;Wales&quot;</td><td>12506206681</td></tr><tr><td>&quot;Scotland&quot;</td><td>12367493862</td></tr></tbody></table></div>"
      ],
      "text/plain": [
       "shape: (4, 2)\n",
       "┌──────────┬─────────────┐\n",
       "│ country  ┆ sum_dlbytes │\n",
       "│ ---      ┆ ---         │\n",
       "│ str      ┆ i64         │\n",
       "╞══════════╪═════════════╡\n",
       "│ Ireland  ┆ 12496130770 │\n",
       "│ England  ┆ 12629527260 │\n",
       "│ Wales    ┆ 12506206681 │\n",
       "│ Scotland ┆ 12367493862 │\n",
       "└──────────┴─────────────┘"
      ]
     },
     "execution_count": 10,
     "metadata": {},
     "output_type": "execute_result"
    }
   ],
   "source": [
    "q = (\n",
    "    df.lazy()\n",
    "    .groupby('country')\n",
    "    .agg(\n",
    "        pl.sum('dlbytes').alias('sum_dlbytes')\n",
    "    )\n",
    ")\n",
    "\n",
    "q.collect()"
   ]
  },
  {
   "cell_type": "code",
   "execution_count": 11,
   "id": "3cc4f656",
   "metadata": {},
   "outputs": [
    {
     "data": {
      "text/html": [
       "<div><style>\n",
       ".dataframe > thead > tr > th,\n",
       ".dataframe > tbody > tr > td {\n",
       "  text-align: right;\n",
       "}\n",
       "</style>\n",
       "<small>shape: (5, 5)</small><table border=\"1\" class=\"dataframe\"><thead><tr><th>platform</th><th>row_count</th><th>dlbytes</th><th>userid</th><th>http_method</th></tr><tr><td>str</td><td>u32</td><td>i64</td><td>list[str]</td><td>str</td></tr></thead><tbody><tr><td>&quot;Linux&quot;</td><td>20103</td><td>10045847375</td><td>[&quot;1597721345356&quot;, &quot;3400788003398&quot;, … &quot;4668345200091&quot;]</td><td>&quot;HTTP&quot;</td></tr><tr><td>&quot;Mac&quot;</td><td>20054</td><td>10008386436</td><td>[&quot;8949163845658&quot;, &quot;7007039082075&quot;, … &quot;1070501782984&quot;]</td><td>&quot;HTTP&quot;</td></tr><tr><td>&quot;Android&quot;</td><td>20011</td><td>10027385345</td><td>[&quot;7773153683656&quot;, &quot;1886351675683&quot;, … &quot;8113107789552&quot;]</td><td>&quot;HTTPS&quot;</td></tr><tr><td>&quot;Windows&quot;</td><td>20005</td><td>10015562721</td><td>[&quot;1546762097287&quot;, &quot;8035878244556&quot;, … &quot;4509087590322&quot;]</td><td>&quot;HTTP&quot;</td></tr><tr><td>&quot;iOS&quot;</td><td>19827</td><td>9902176696</td><td>[&quot;7214908687567&quot;, &quot;1093994305313&quot;, … &quot;0931956674865&quot;]</td><td>&quot;HTTP&quot;</td></tr></tbody></table></div>"
      ],
      "text/plain": [
       "shape: (5, 5)\n",
       "┌──────────┬───────────┬─────────────┬───────────────────────────────────┬─────────────┐\n",
       "│ platform ┆ row_count ┆ dlbytes     ┆ userid                            ┆ http_method │\n",
       "│ ---      ┆ ---       ┆ ---         ┆ ---                               ┆ ---         │\n",
       "│ str      ┆ u32       ┆ i64         ┆ list[str]                         ┆ str         │\n",
       "╞══════════╪═══════════╪═════════════╪═══════════════════════════════════╪═════════════╡\n",
       "│ Linux    ┆ 20103     ┆ 10045847375 ┆ [\"1597721345356\", \"3400788003398… ┆ HTTP        │\n",
       "│ Mac      ┆ 20054     ┆ 10008386436 ┆ [\"8949163845658\", \"7007039082075… ┆ HTTP        │\n",
       "│ Android  ┆ 20011     ┆ 10027385345 ┆ [\"7773153683656\", \"1886351675683… ┆ HTTPS       │\n",
       "│ Windows  ┆ 20005     ┆ 10015562721 ┆ [\"1546762097287\", \"8035878244556… ┆ HTTP        │\n",
       "│ iOS      ┆ 19827     ┆ 9902176696  ┆ [\"7214908687567\", \"1093994305313… ┆ HTTP        │\n",
       "└──────────┴───────────┴─────────────┴───────────────────────────────────┴─────────────┘"
      ]
     },
     "execution_count": 11,
     "metadata": {},
     "output_type": "execute_result"
    }
   ],
   "source": [
    "q = (\n",
    "    df.lazy()\n",
    "    .groupby('platform')\n",
    "    .agg(\n",
    "        pl.count().alias('row_count'),\n",
    "        pl.sum('dlbytes'),\n",
    "        pl.col('userid'),\n",
    "        pl.first('http_method')\n",
    "    )\n",
    "    .sort('row_count', descending=True)\n",
    ")\n",
    "\n",
    "q.collect()"
   ]
  },
  {
   "cell_type": "code",
   "execution_count": 12,
   "id": "033568af",
   "metadata": {},
   "outputs": [
    {
     "data": {
      "text/html": [
       "<div><style>\n",
       ".dataframe > thead > tr > th,\n",
       ".dataframe > tbody > tr > td {\n",
       "  text-align: right;\n",
       "}\n",
       "</style>\n",
       "<small>shape: (10, 3)</small><table border=\"1\" class=\"dataframe\"><thead><tr><th>date_time</th><th>dlbytes</th><th>max</th></tr><tr><td>str</td><td>i64</td><td>i64</td></tr></thead><tbody><tr><td>&quot;2023-10-01 00:…</td><td>60865</td><td>null</td></tr><tr><td>&quot;2023-10-01 00:…</td><td>196289</td><td>196289</td></tr><tr><td>&quot;2023-10-01 00:…</td><td>350605</td><td>350605</td></tr><tr><td>&quot;2023-10-01 00:…</td><td>210027</td><td>350605</td></tr><tr><td>&quot;2023-10-01 00:…</td><td>523144</td><td>523144</td></tr><tr><td>&quot;2023-10-01 00:…</td><td>26727</td><td>523144</td></tr><tr><td>&quot;2023-10-01 00:…</td><td>453615</td><td>453615</td></tr><tr><td>&quot;2023-10-01 00:…</td><td>613899</td><td>613899</td></tr><tr><td>&quot;2023-10-01 00:…</td><td>115888</td><td>613899</td></tr><tr><td>&quot;2023-10-01 00:…</td><td>385154</td><td>385154</td></tr></tbody></table></div>"
      ],
      "text/plain": [
       "shape: (10, 3)\n",
       "┌─────────────────────┬─────────┬────────┐\n",
       "│ date_time           ┆ dlbytes ┆ max    │\n",
       "│ ---                 ┆ ---     ┆ ---    │\n",
       "│ str                 ┆ i64     ┆ i64    │\n",
       "╞═════════════════════╪═════════╪════════╡\n",
       "│ 2023-10-01 00:00:01 ┆ 60865   ┆ null   │\n",
       "│ 2023-10-01 00:00:01 ┆ 196289  ┆ 196289 │\n",
       "│ 2023-10-01 00:00:01 ┆ 350605  ┆ 350605 │\n",
       "│ 2023-10-01 00:00:04 ┆ 210027  ┆ 350605 │\n",
       "│ …                   ┆ …       ┆ …      │\n",
       "│ 2023-10-01 00:00:33 ┆ 453615  ┆ 453615 │\n",
       "│ 2023-10-01 00:00:37 ┆ 613899  ┆ 613899 │\n",
       "│ 2023-10-01 00:00:38 ┆ 115888  ┆ 613899 │\n",
       "│ 2023-10-01 00:00:39 ┆ 385154  ┆ 385154 │\n",
       "└─────────────────────┴─────────┴────────┘"
      ]
     },
     "execution_count": 12,
     "metadata": {},
     "output_type": "execute_result"
    }
   ],
   "source": [
    "df.sort('date_time', descending=False).select(\n",
    "    pl.col('date_time'),\n",
    "    pl.col('dlbytes'),\n",
    "    pl.col('dlbytes').rolling_max(\n",
    "            window_size=2\n",
    "    ).alias('max')\n",
    ").head(10)"
   ]
  },
  {
   "cell_type": "code",
   "execution_count": 13,
   "id": "0d344e87",
   "metadata": {},
   "outputs": [
    {
     "data": {
      "text/html": [
       "<div><style>\n",
       ".dataframe > thead > tr > th,\n",
       ".dataframe > tbody > tr > td {\n",
       "  text-align: right;\n",
       "}\n",
       "</style>\n",
       "<small>shape: (5, 4)</small><table border=\"1\" class=\"dataframe\"><thead><tr><th>country</th><th>userid</th><th>dlbytes</th><th>windowbytes</th></tr><tr><td>str</td><td>str</td><td>i64</td><td>i64</td></tr></thead><tbody><tr><td>&quot;England&quot;</td><td>&quot;7773153683656&quot;</td><td>872807</td><td>12629527260</td></tr><tr><td>&quot;Wales&quot;</td><td>&quot;1886351675683&quot;</td><td>50898</td><td>12506206681</td></tr><tr><td>&quot;Scotland&quot;</td><td>&quot;1597721345356&quot;</td><td>964276</td><td>12367493862</td></tr><tr><td>&quot;England&quot;</td><td>&quot;9766845800247&quot;</td><td>212529</td><td>12629527260</td></tr><tr><td>&quot;Wales&quot;</td><td>&quot;1546762097287&quot;</td><td>553626</td><td>12506206681</td></tr></tbody></table></div>"
      ],
      "text/plain": [
       "shape: (5, 4)\n",
       "┌──────────┬───────────────┬─────────┬─────────────┐\n",
       "│ country  ┆ userid        ┆ dlbytes ┆ windowbytes │\n",
       "│ ---      ┆ ---           ┆ ---     ┆ ---         │\n",
       "│ str      ┆ str           ┆ i64     ┆ i64         │\n",
       "╞══════════╪═══════════════╪═════════╪═════════════╡\n",
       "│ England  ┆ 7773153683656 ┆ 872807  ┆ 12629527260 │\n",
       "│ Wales    ┆ 1886351675683 ┆ 50898   ┆ 12506206681 │\n",
       "│ Scotland ┆ 1597721345356 ┆ 964276  ┆ 12367493862 │\n",
       "│ England  ┆ 9766845800247 ┆ 212529  ┆ 12629527260 │\n",
       "│ Wales    ┆ 1546762097287 ┆ 553626  ┆ 12506206681 │\n",
       "└──────────┴───────────────┴─────────┴─────────────┘"
      ]
     },
     "execution_count": 13,
     "metadata": {},
     "output_type": "execute_result"
    }
   ],
   "source": [
    "df.select(\n",
    "    pl.col('country'),\n",
    "    pl.col('userid'),\n",
    "    pl.col('dlbytes'),\n",
    "    pl.col('dlbytes').sum().over('country').alias('windowbytes')\n",
    ").head(5)"
   ]
  },
  {
   "cell_type": "code",
   "execution_count": 14,
   "id": "ae755088",
   "metadata": {},
   "outputs": [
    {
     "data": {
      "text/html": [
       "<div><style>\n",
       ".dataframe > thead > tr > th,\n",
       ".dataframe > tbody > tr > td {\n",
       "  text-align: right;\n",
       "}\n",
       "</style>\n",
       "<small>shape: (5, 12)</small><table border=\"1\" class=\"dataframe\"><thead><tr><th>date_time</th><th>userid</th><th>domain</th><th>dlbytes</th><th>ulbytes</th><th>clientip</th><th>serverip</th><th>country</th><th>txn_time</th><th>http_method</th><th>user_agent</th><th>platform</th></tr><tr><td>str</td><td>str</td><td>str</td><td>i64</td><td>i64</td><td>str</td><td>str</td><td>str</td><td>f64</td><td>str</td><td>str</td><td>str</td></tr></thead><tbody><tr><td>&quot;2023-10-04 12:…</td><td>&quot;1886351675683&quot;</td><td>&quot;hopkins.org&quot;</td><td>50898</td><td>529504</td><td>&quot;184.205.48.78&quot;</td><td>&quot;152.123.41.39&quot;</td><td>&quot;Wales&quot;</td><td>1.2</td><td>&quot;HTTP&quot;</td><td>&quot;Mozilla/5.0 (W…</td><td>&quot;Android&quot;</td></tr><tr><td>&quot;2023-10-02 23:…</td><td>&quot;1597721345356&quot;</td><td>&quot;evans.com&quot;</td><td>964276</td><td>952420</td><td>&quot;189.30.60.163&quot;</td><td>&quot;68.171.236.18&quot;</td><td>&quot;Scotland&quot;</td><td>1.32</td><td>&quot;HTTP&quot;</td><td>&quot;Mozilla/5.0 (W…</td><td>&quot;Linux&quot;</td></tr><tr><td>&quot;2023-10-01 08:…</td><td>&quot;1546762097287&quot;</td><td>&quot;richardson-wal…</td><td>553626</td><td>901428</td><td>&quot;143.74.163.248…</td><td>&quot;26.253.17.223&quot;</td><td>&quot;Wales&quot;</td><td>1.53</td><td>&quot;HTTP&quot;</td><td>&quot;Mozilla/5.0 (M…</td><td>&quot;Windows&quot;</td></tr><tr><td>&quot;2023-10-01 13:…</td><td>&quot;8949163845658&quot;</td><td>&quot;lowe.com&quot;</td><td>43595</td><td>77597</td><td>&quot;148.15.214.37&quot;</td><td>&quot;4.33.9.229&quot;</td><td>&quot;England&quot;</td><td>1.68</td><td>&quot;HTTP&quot;</td><td>&quot;Mozilla/5.0 (L…</td><td>&quot;Mac&quot;</td></tr><tr><td>&quot;2023-10-03 11:…</td><td>&quot;3400788003398&quot;</td><td>&quot;watts.com&quot;</td><td>342378</td><td>715125</td><td>&quot;142.37.27.131&quot;</td><td>&quot;41.152.174.228…</td><td>&quot;Scotland&quot;</td><td>2.92</td><td>&quot;HTTP&quot;</td><td>&quot;Opera/8.53.(Wi…</td><td>&quot;Linux&quot;</td></tr></tbody></table></div>"
      ],
      "text/plain": [
       "shape: (5, 12)\n",
       "┌─────────────┬────────────┬────────────┬─────────┬───┬──────────┬───────────┬──────────┬──────────┐\n",
       "│ date_time   ┆ userid     ┆ domain     ┆ dlbytes ┆ … ┆ txn_time ┆ http_meth ┆ user_age ┆ platform │\n",
       "│ ---         ┆ ---        ┆ ---        ┆ ---     ┆   ┆ ---      ┆ od        ┆ nt       ┆ ---      │\n",
       "│ str         ┆ str        ┆ str        ┆ i64     ┆   ┆ f64      ┆ ---       ┆ ---      ┆ str      │\n",
       "│             ┆            ┆            ┆         ┆   ┆          ┆ str       ┆ str      ┆          │\n",
       "╞═════════════╪════════════╪════════════╪═════════╪═══╪══════════╪═══════════╪══════════╪══════════╡\n",
       "│ 2023-10-04  ┆ 1886351675 ┆ hopkins.or ┆ 50898   ┆ … ┆ 1.2      ┆ HTTP      ┆ Mozilla/ ┆ Android  │\n",
       "│ 12:17:07    ┆ 683        ┆ g          ┆         ┆   ┆          ┆           ┆ 5.0 (Win ┆          │\n",
       "│             ┆            ┆            ┆         ┆   ┆          ┆           ┆ dows; U; ┆          │\n",
       "│             ┆            ┆            ┆         ┆   ┆          ┆           ┆ Windows… ┆          │\n",
       "│ 2023-10-02  ┆ 1597721345 ┆ evans.com  ┆ 964276  ┆ … ┆ 1.32     ┆ HTTP      ┆ Mozilla/ ┆ Linux    │\n",
       "│ 23:25:12    ┆ 356        ┆            ┆         ┆   ┆          ┆           ┆ 5.0      ┆          │\n",
       "│             ┆            ┆            ┆         ┆   ┆          ┆           ┆ (Windows ┆          │\n",
       "│             ┆            ┆            ┆         ┆   ┆          ┆           ┆ 98; Win  ┆          │\n",
       "│             ┆            ┆            ┆         ┆   ┆          ┆           ┆ 9x …     ┆          │\n",
       "│ 2023-10-01  ┆ 1546762097 ┆ richardson ┆ 553626  ┆ … ┆ 1.53     ┆ HTTP      ┆ Mozilla/ ┆ Windows  │\n",
       "│ 08:16:46    ┆ 287        ┆ -walker.bi ┆         ┆   ┆          ┆           ┆ 5.0 (Mac ┆          │\n",
       "│             ┆            ┆ z          ┆         ┆   ┆          ┆           ┆ intosh;  ┆          │\n",
       "│             ┆            ┆            ┆         ┆   ┆          ┆           ┆ Intel    ┆          │\n",
       "│             ┆            ┆            ┆         ┆   ┆          ┆           ┆ Ma…      ┆          │\n",
       "│ 2023-10-01  ┆ 8949163845 ┆ lowe.com   ┆ 43595   ┆ … ┆ 1.68     ┆ HTTP      ┆ Mozilla/ ┆ Mac      │\n",
       "│ 13:49:39    ┆ 658        ┆            ┆         ┆   ┆          ┆           ┆ 5.0      ┆          │\n",
       "│             ┆            ┆            ┆         ┆   ┆          ┆           ┆ (Linux;  ┆          │\n",
       "│             ┆            ┆            ┆         ┆   ┆          ┆           ┆ Android  ┆          │\n",
       "│             ┆            ┆            ┆         ┆   ┆          ┆           ┆ 2.3.…    ┆          │\n",
       "│ 2023-10-03  ┆ 3400788003 ┆ watts.com  ┆ 342378  ┆ … ┆ 2.92     ┆ HTTP      ┆ Opera/8. ┆ Linux    │\n",
       "│ 11:48:19    ┆ 398        ┆            ┆         ┆   ┆          ┆           ┆ 53.(Wind ┆          │\n",
       "│             ┆            ┆            ┆         ┆   ┆          ┆           ┆ ows 98;  ┆          │\n",
       "│             ┆            ┆            ┆         ┆   ┆          ┆           ┆ ml-IN)   ┆          │\n",
       "│             ┆            ┆            ┆         ┆   ┆          ┆           ┆ P…       ┆          │\n",
       "└─────────────┴────────────┴────────────┴─────────┴───┴──────────┴───────────┴──────────┴──────────┘"
      ]
     },
     "execution_count": 14,
     "metadata": {},
     "output_type": "execute_result"
    }
   ],
   "source": [
    "df.filter(pl.col('http_method') == 'HTTP').head(5)"
   ]
  },
  {
   "cell_type": "code",
   "execution_count": 15,
   "id": "b291026a",
   "metadata": {},
   "outputs": [
    {
     "data": {
      "text/html": [
       "<div><style>\n",
       ".dataframe > thead > tr > th,\n",
       ".dataframe > tbody > tr > td {\n",
       "  text-align: right;\n",
       "}\n",
       "</style>\n",
       "<small>shape: (5, 12)</small><table border=\"1\" class=\"dataframe\"><thead><tr><th>date_time</th><th>userid</th><th>domain</th><th>dlbytes</th><th>ulbytes</th><th>clientip</th><th>serverip</th><th>country</th><th>txn_time</th><th>http_method</th><th>user_agent</th><th>platform</th></tr><tr><td>str</td><td>str</td><td>str</td><td>i64</td><td>i64</td><td>str</td><td>str</td><td>str</td><td>f64</td><td>str</td><td>str</td><td>str</td></tr></thead><tbody><tr><td>&quot;2023-10-01 13:…</td><td>&quot;8949163845658&quot;</td><td>&quot;lowe.com&quot;</td><td>43595</td><td>77597</td><td>&quot;148.15.214.37&quot;</td><td>&quot;4.33.9.229&quot;</td><td>&quot;England&quot;</td><td>1.68</td><td>&quot;HTTP&quot;</td><td>&quot;Mozilla/5.0 (L…</td><td>&quot;Mac&quot;</td></tr><tr><td>&quot;2023-10-03 11:…</td><td>&quot;1106150674730&quot;</td><td>&quot;turner.com&quot;</td><td>728522</td><td>2711</td><td>&quot;1.120.139.1&quot;</td><td>&quot;194.164.198.19…</td><td>&quot;England&quot;</td><td>1.34</td><td>&quot;HTTPS&quot;</td><td>&quot;Mozilla/5.0 (M…</td><td>&quot;Mac&quot;</td></tr><tr><td>&quot;2023-10-03 16:…</td><td>&quot;7195638533371&quot;</td><td>&quot;lowe-brooks.bi…</td><td>583741</td><td>916671</td><td>&quot;188.226.195.12…</td><td>&quot;201.95.79.16&quot;</td><td>&quot;England&quot;</td><td>0.17</td><td>&quot;HTTP&quot;</td><td>&quot;Mozilla/5.0 (i…</td><td>&quot;Mac&quot;</td></tr><tr><td>&quot;2023-10-01 10:…</td><td>&quot;8815394944307&quot;</td><td>&quot;robinson.com&quot;</td><td>332908</td><td>345730</td><td>&quot;80.77.128.175&quot;</td><td>&quot;77.238.12.133&quot;</td><td>&quot;England&quot;</td><td>1.53</td><td>&quot;HTTP&quot;</td><td>&quot;Mozilla/5.0 (i…</td><td>&quot;Mac&quot;</td></tr><tr><td>&quot;2023-10-04 16:…</td><td>&quot;8093407508235&quot;</td><td>&quot;webster-franci…</td><td>943117</td><td>84462</td><td>&quot;138.64.12.233&quot;</td><td>&quot;157.237.117.16…</td><td>&quot;England&quot;</td><td>0.13</td><td>&quot;HTTPS&quot;</td><td>&quot;Mozilla/5.0 (M…</td><td>&quot;Mac&quot;</td></tr></tbody></table></div>"
      ],
      "text/plain": [
       "shape: (5, 12)\n",
       "┌─────────────┬────────────┬────────────┬─────────┬───┬──────────┬───────────┬──────────┬──────────┐\n",
       "│ date_time   ┆ userid     ┆ domain     ┆ dlbytes ┆ … ┆ txn_time ┆ http_meth ┆ user_age ┆ platform │\n",
       "│ ---         ┆ ---        ┆ ---        ┆ ---     ┆   ┆ ---      ┆ od        ┆ nt       ┆ ---      │\n",
       "│ str         ┆ str        ┆ str        ┆ i64     ┆   ┆ f64      ┆ ---       ┆ ---      ┆ str      │\n",
       "│             ┆            ┆            ┆         ┆   ┆          ┆ str       ┆ str      ┆          │\n",
       "╞═════════════╪════════════╪════════════╪═════════╪═══╪══════════╪═══════════╪══════════╪══════════╡\n",
       "│ 2023-10-01  ┆ 8949163845 ┆ lowe.com   ┆ 43595   ┆ … ┆ 1.68     ┆ HTTP      ┆ Mozilla/ ┆ Mac      │\n",
       "│ 13:49:39    ┆ 658        ┆            ┆         ┆   ┆          ┆           ┆ 5.0      ┆          │\n",
       "│             ┆            ┆            ┆         ┆   ┆          ┆           ┆ (Linux;  ┆          │\n",
       "│             ┆            ┆            ┆         ┆   ┆          ┆           ┆ Android  ┆          │\n",
       "│             ┆            ┆            ┆         ┆   ┆          ┆           ┆ 2.3.…    ┆          │\n",
       "│ 2023-10-03  ┆ 1106150674 ┆ turner.com ┆ 728522  ┆ … ┆ 1.34     ┆ HTTPS     ┆ Mozilla/ ┆ Mac      │\n",
       "│ 11:20:53    ┆ 730        ┆            ┆         ┆   ┆          ┆           ┆ 5.0 (Mac ┆          │\n",
       "│             ┆            ┆            ┆         ┆   ┆          ┆           ┆ intosh;  ┆          │\n",
       "│             ┆            ┆            ┆         ┆   ┆          ┆           ┆ Intel    ┆          │\n",
       "│             ┆            ┆            ┆         ┆   ┆          ┆           ┆ Ma…      ┆          │\n",
       "│ 2023-10-03  ┆ 7195638533 ┆ lowe-brook ┆ 583741  ┆ … ┆ 0.17     ┆ HTTP      ┆ Mozilla/ ┆ Mac      │\n",
       "│ 16:26:30    ┆ 371        ┆ s.biz      ┆         ┆   ┆          ┆           ┆ 5.0      ┆          │\n",
       "│             ┆            ┆            ┆         ┆   ┆          ┆           ┆ (iPad;   ┆          │\n",
       "│             ┆            ┆            ┆         ┆   ┆          ┆           ┆ CPU iPad ┆          │\n",
       "│             ┆            ┆            ┆         ┆   ┆          ┆           ┆ OS 1…    ┆          │\n",
       "│ 2023-10-01  ┆ 8815394944 ┆ robinson.c ┆ 332908  ┆ … ┆ 1.53     ┆ HTTP      ┆ Mozilla/ ┆ Mac      │\n",
       "│ 10:18:41    ┆ 307        ┆ om         ┆         ┆   ┆          ┆           ┆ 5.0      ┆          │\n",
       "│             ┆            ┆            ┆         ┆   ┆          ┆           ┆ (iPod;   ┆          │\n",
       "│             ┆            ┆            ┆         ┆   ┆          ┆           ┆ U; CPU   ┆          │\n",
       "│             ┆            ┆            ┆         ┆   ┆          ┆           ┆ iPhone…  ┆          │\n",
       "│ 2023-10-04  ┆ 8093407508 ┆ webster-fr ┆ 943117  ┆ … ┆ 0.13     ┆ HTTPS     ┆ Mozilla/ ┆ Mac      │\n",
       "│ 16:16:46    ┆ 235        ┆ ancis.com  ┆         ┆   ┆          ┆           ┆ 5.0 (Mac ┆          │\n",
       "│             ┆            ┆            ┆         ┆   ┆          ┆           ┆ intosh;  ┆          │\n",
       "│             ┆            ┆            ┆         ┆   ┆          ┆           ┆ U;       ┆          │\n",
       "│             ┆            ┆            ┆         ┆   ┆          ┆           ┆ Intel…   ┆          │\n",
       "└─────────────┴────────────┴────────────┴─────────┴───┴──────────┴───────────┴──────────┴──────────┘"
      ]
     },
     "execution_count": 15,
     "metadata": {},
     "output_type": "execute_result"
    }
   ],
   "source": [
    "df.filter((pl.col('platform') == 'Mac') & (pl.col('country') == 'England')).head(5)"
   ]
  },
  {
   "cell_type": "markdown",
   "id": "eff665dd",
   "metadata": {},
   "source": [
    "find the 5 most heavy users"
   ]
  },
  {
   "cell_type": "code",
   "execution_count": 16,
   "id": "cec9ee20",
   "metadata": {},
   "outputs": [],
   "source": [
    "users = df.select(pl.col('userid'), pl.col('dlbytes'),\n",
    "                  pl.col('ulbytes'),\n",
    "                  (\n",
    "                      pl.col('dlbytes') + pl.col('ulbytes')\n",
    "                  ).alias('total_bytes')\n",
    ")"
   ]
  },
  {
   "cell_type": "code",
   "execution_count": 17,
   "id": "f6e2528d",
   "metadata": {},
   "outputs": [
    {
     "data": {
      "text/html": [
       "<div><style>\n",
       ".dataframe > thead > tr > th,\n",
       ".dataframe > tbody > tr > td {\n",
       "  text-align: right;\n",
       "}\n",
       "</style>\n",
       "<small>shape: (5, 2)</small><table border=\"1\" class=\"dataframe\"><thead><tr><th>userid</th><th>total_bytes</th></tr><tr><td>str</td><td>i64</td></tr></thead><tbody><tr><td>&quot;4741844108555&quot;</td><td>3822427</td></tr><tr><td>&quot;3998031863277&quot;</td><td>3818268</td></tr><tr><td>&quot;0805218874414&quot;</td><td>3805682</td></tr><tr><td>&quot;2927557590468&quot;</td><td>3798446</td></tr><tr><td>&quot;3261642863045&quot;</td><td>3752013</td></tr></tbody></table></div>"
      ],
      "text/plain": [
       "shape: (5, 2)\n",
       "┌───────────────┬─────────────┐\n",
       "│ userid        ┆ total_bytes │\n",
       "│ ---           ┆ ---         │\n",
       "│ str           ┆ i64         │\n",
       "╞═══════════════╪═════════════╡\n",
       "│ 4741844108555 ┆ 3822427     │\n",
       "│ 3998031863277 ┆ 3818268     │\n",
       "│ 0805218874414 ┆ 3805682     │\n",
       "│ 2927557590468 ┆ 3798446     │\n",
       "│ 3261642863045 ┆ 3752013     │\n",
       "└───────────────┴─────────────┘"
      ]
     },
     "execution_count": 17,
     "metadata": {},
     "output_type": "execute_result"
    }
   ],
   "source": [
    "q = (\n",
    "    users.lazy()\n",
    "    .groupby('userid')\n",
    "    .agg(\n",
    "        pl.sum('total_bytes').alias('total_bytes')\n",
    "    )\n",
    "    .sort('total_bytes', descending=True)\n",
    ")\n",
    "\n",
    "q.collect().head(5)"
   ]
  },
  {
   "cell_type": "markdown",
   "id": "a74a8afe",
   "metadata": {},
   "source": [
    "use a window function to find the total number of ulbytes for each country\n",
    "\n",
    "sum ulBytes and then work out the percent that each transaction represents"
   ]
  },
  {
   "cell_type": "code",
   "execution_count": 18,
   "id": "b9b8e3d2",
   "metadata": {},
   "outputs": [],
   "source": [
    "df2 = df.select(\n",
    "    pl.col('country'),\n",
    "    pl.col('userid'),\n",
    "    pl.col('ulbytes'),\n",
    "    pl.col('ulbytes').sum().over('country').alias('countrybytes')\n",
    ")"
   ]
  },
  {
   "cell_type": "code",
   "execution_count": 19,
   "id": "4cff8618",
   "metadata": {},
   "outputs": [
    {
     "data": {
      "text/html": [
       "<div><style>\n",
       ".dataframe > thead > tr > th,\n",
       ".dataframe > tbody > tr > td {\n",
       "  text-align: right;\n",
       "}\n",
       "</style>\n",
       "<small>shape: (5, 3)</small><table border=\"1\" class=\"dataframe\"><thead><tr><th>userid</th><th>ulbytes</th><th>pct</th></tr><tr><td>str</td><td>i64</td><td>f64</td></tr></thead><tbody><tr><td>&quot;7773153683656&quot;</td><td>741526</td><td>0.005908</td></tr><tr><td>&quot;1886351675683&quot;</td><td>529504</td><td>0.004208</td></tr><tr><td>&quot;1597721345356&quot;</td><td>952420</td><td>0.007672</td></tr><tr><td>&quot;9766845800247&quot;</td><td>811887</td><td>0.006468</td></tr><tr><td>&quot;1546762097287&quot;</td><td>901428</td><td>0.007163</td></tr></tbody></table></div>"
      ],
      "text/plain": [
       "shape: (5, 3)\n",
       "┌───────────────┬─────────┬──────────┐\n",
       "│ userid        ┆ ulbytes ┆ pct      │\n",
       "│ ---           ┆ ---     ┆ ---      │\n",
       "│ str           ┆ i64     ┆ f64      │\n",
       "╞═══════════════╪═════════╪══════════╡\n",
       "│ 7773153683656 ┆ 741526  ┆ 0.005908 │\n",
       "│ 1886351675683 ┆ 529504  ┆ 0.004208 │\n",
       "│ 1597721345356 ┆ 952420  ┆ 0.007672 │\n",
       "│ 9766845800247 ┆ 811887  ┆ 0.006468 │\n",
       "│ 1546762097287 ┆ 901428  ┆ 0.007163 │\n",
       "└───────────────┴─────────┴──────────┘"
      ]
     },
     "execution_count": 19,
     "metadata": {},
     "output_type": "execute_result"
    }
   ],
   "source": [
    "df2.select(\n",
    "    pl.col('userid'), pl.col('ulbytes'),\n",
    "    ((\n",
    "        pl.col('ulbytes') / pl.col('countrybytes')\n",
    "    ) * 100).alias('pct')\n",
    ").head(5)"
   ]
  }
 ],
 "metadata": {
  "kernelspec": {
   "display_name": "Python 3 (ipykernel)",
   "language": "python",
   "name": "python3"
  },
  "language_info": {
   "codemirror_mode": {
    "name": "ipython",
    "version": 3
   },
   "file_extension": ".py",
   "mimetype": "text/x-python",
   "name": "python",
   "nbconvert_exporter": "python",
   "pygments_lexer": "ipython3",
   "version": "3.9.12"
  }
 },
 "nbformat": 4,
 "nbformat_minor": 5
}
